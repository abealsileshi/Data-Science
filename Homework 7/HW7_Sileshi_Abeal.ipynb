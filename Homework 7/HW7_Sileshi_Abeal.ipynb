{
 "cells": [
  {
   "cell_type": "markdown",
   "metadata": {},
   "source": [
    "<a id='top'></a>\n",
    "\n",
    "# CSCI3022 S21\n",
    "# Homework 7: Regression Practice\n",
    "***\n",
    "\n",
    "**Name**: Abeal Sileshi\n",
    "\n",
    "***\n",
    "\n",
    "This assignment is due on Canvas by **MIDNIGHT on Friday, April 22**. Your solutions to theoretical questions should be done in Markdown directly below the associated question.  Your solutions to computational questions should include any specified Python code and results as well as written commentary on your conclusions.  Remember that you are encouraged to discuss the problems with your classmates, but **you must write all code and solutions on your own**.\n",
    "\n",
    "**NOTES**: \n",
    "\n",
    "- Any relevant data sets should be available on Canvas. To make life easier on the graders if they need to run your code, do not change the relative path names here. Instead, move the files around on your computer.\n",
    "- If you're not familiar with typesetting math directly into Markdown then by all means, do your work on paper first and then typeset it later.  Here is a [reference guide](https://math.meta.stackexchange.com/questions/5020/mathjax-basic-tutorial-and-quick-reference) linked on Canvas on writing math in Markdown. **All** of your written commentary, justifications and mathematical work should be in Markdown.  I also recommend the [wikibook](https://en.wikibooks.org/wiki/LaTeX) for LaTex.\n",
    "- Because you can technically evaluate notebook cells is a non-linear order, it's a good idea to do **Kernel $\\rightarrow$ Restart & Run All** as a check before submitting your solutions.  That way if we need to run your code you will know that it will work as expected. \n",
    "- It is **bad form** to make your reader interpret numerical output from your code.  If a question asks you to compute some value from the data you should show your code output **AND** write a summary of the results in Markdown directly below your code. \n",
    "- 45 points of this assignment are in problems.  The remaining 5 are for neatness, style, and overall exposition of both code and text.\n",
    "- This probably goes without saying, but... For any question that asks you to calculate something, you **must show all work and justify your answers to receive credit**. Sparse or nonexistent work will receive sparse or nonexistent credit. \n",
    "\n",
    "---\n",
    "**Shortcuts:**  [Data Set 1](#p1) | [Data Set 2](#p2) | [Data Set 3](#p3) |  [Data Set 4](#p4) |\n",
    "---"
   ]
  },
  {
   "cell_type": "code",
   "execution_count": 142,
   "metadata": {},
   "outputs": [],
   "source": [
    "#old stalwarts\n",
    "import pandas as pd\n",
    "import numpy as np\n",
    "import matplotlib.pylab as plt\n",
    "import scipy.stats as stats\n",
    "%matplotlib inline\n",
    "\n",
    "#new friends\n",
    "import seaborn as sns\n",
    "import statsmodels.api as sm #this line is now always in our opener\n",
    "from statsmodels.stats.outliers_influence import summary_table\n",
    "from patsy import dmatrices # for making design matrices out of categorical features #instead of sm.add_constant\n",
    "\n",
    "from scipy.optimize import curve_fit"
   ]
  },
  {
   "cell_type": "markdown",
   "metadata": {},
   "source": [
    "## [All problems: 11 points/ea]\n",
    "**Shortcuts:**  [1](#p1) | [2](#p2) | [3](#p3) | [4](#p4) |\n",
    "\n",
    "\n",
    "Run the cell below to load in the data set known as \"Anscombe's Quartet.\"  It contains 4 data sets, each with its own set of $x$ and $y$ values.\n",
    "\n",
    "\n",
    "Each data set has exactly 11 observations.  For each data set, you will perform the same steps of visualizing and fitting a linear model."
   ]
  },
  {
   "cell_type": "code",
   "execution_count": 143,
   "metadata": {},
   "outputs": [
    {
     "name": "stdout",
     "output_type": "stream",
     "text": [
      "  dataset     x     y\n",
      "0       I  10.0  8.04\n",
      "1       I   8.0  6.95\n",
      "2       I  13.0  7.58\n",
      "3       I   9.0  8.81\n",
      "4       I  11.0  8.33\n"
     ]
    },
    {
     "data": {
      "text/plain": [
       "array(['I', 'II', 'III', 'IV'], dtype=object)"
      ]
     },
     "execution_count": 143,
     "metadata": {},
     "output_type": "execute_result"
    }
   ],
   "source": [
    "df = sns.load_dataset(\"anscombe\")\n",
    "\n",
    "print(df.head())\n",
    "df['dataset'].unique()"
   ]
  },
  {
   "cell_type": "markdown",
   "metadata": {},
   "source": [
    "<br>\n",
    "\n",
    "---\n",
    "<a/ id='p1'></a>\n",
    "[Back to top](#top)\n",
    "## [25 points] Data Set 1\n",
    "\n",
    "For the data set marked with \"I\" in the given data frame,  perform a regression analysis.  Use markdown to clearly mark each step.\n",
    "\n",
    "\n",
    "#### Part A: Make a scatter plot of the data set and overlay the line of best least-squares fit.  Print the summary table, and write the final model in a markdown cell."
   ]
  },
  {
   "cell_type": "code",
   "execution_count": 144,
   "metadata": {
    "scrolled": true
   },
   "outputs": [
    {
     "name": "stdout",
     "output_type": "stream",
     "text": [
      "The summary is this,                              OLS Regression Results                            \n",
      "==============================================================================\n",
      "Dep. Variable:                      y   R-squared:                       0.667\n",
      "Model:                            OLS   Adj. R-squared:                  0.629\n",
      "Method:                 Least Squares   F-statistic:                     17.99\n",
      "Date:                Sat, 24 Apr 2021   Prob (F-statistic):            0.00217\n",
      "Time:                        16:04:05   Log-Likelihood:                -16.841\n",
      "No. Observations:                  11   AIC:                             37.68\n",
      "Df Residuals:                       9   BIC:                             38.48\n",
      "Df Model:                           1                                         \n",
      "Covariance Type:            nonrobust                                         \n",
      "==============================================================================\n",
      "                 coef    std err          t      P>|t|      [0.025      0.975]\n",
      "------------------------------------------------------------------------------\n",
      "const          3.0001      1.125      2.667      0.026       0.456       5.544\n",
      "x              0.5001      0.118      4.241      0.002       0.233       0.767\n",
      "==============================================================================\n",
      "Omnibus:                        0.082   Durbin-Watson:                   3.212\n",
      "Prob(Omnibus):                  0.960   Jarque-Bera (JB):                0.289\n",
      "Skew:                          -0.122   Prob(JB):                        0.865\n",
      "Kurtosis:                       2.244   Cond. No.                         29.1\n",
      "==============================================================================\n",
      "\n",
      "Notes:\n",
      "[1] Standard Errors assume that the covariance matrix of the errors is correctly specified.\n"
     ]
    },
    {
     "name": "stderr",
     "output_type": "stream",
     "text": [
      "/opt/anaconda3/lib/python3.8/site-packages/scipy/stats/stats.py:1603: UserWarning: kurtosistest only valid for n>=20 ... continuing anyway, n=11\n",
      "  warnings.warn(\"kurtosistest only valid for n>=20 ... continuing \"\n"
     ]
    },
    {
     "data": {
      "text/plain": [
       "[<matplotlib.lines.Line2D at 0x7fc7c83fe5e0>]"
      ]
     },
     "execution_count": 144,
     "metadata": {},
     "output_type": "execute_result"
    },
    {
     "data": {
      "image/png": "[encoded data removed]",
      "text/plain": [
       "<Figure size 360x360 with 1 Axes>"
      ]
     },
     "metadata": {
      "needs_background": "light"
     },
     "output_type": "display_data"
    }
   ],
   "source": [
    "#copying over dataset 1\n",
    "d1 = df.iloc[:11]\n",
    "\n",
    "fig, axes = plt.subplots(nrows=1, ncols=1, figsize=(5,5))\n",
    "axes.scatter(d1[\"x\"], d1[\"y\"])\n",
    "axes.set_xlabel(\"x values\", fontsize=16)\n",
    "axes.set_ylabel(\"y values\", fontsize=16)\n",
    "\n",
    "model = sm.OLS(d1[\"y\"], sm.add_constant(d1[\"x\"])).fit()\n",
    "print(\"The summary is this, \", model.summary())\n",
    "\n",
    "#to calculate line of best fit\n",
    "def best_fit(X, Y):\n",
    "\n",
    "    xbar = sum(X)/len(X)\n",
    "    ybar = sum(Y)/len(Y)\n",
    "    n = len(X) # or len(Y)\n",
    "\n",
    "    numer = sum([xi*yi for xi,yi in zip(X, Y)]) - n * xbar * ybar\n",
    "    denum = sum([xi**2 for xi in X]) - n * xbar**2\n",
    "\n",
    "    b = numer / denum\n",
    "    a = ybar - b * xbar\n",
    "\n",
    "    return a, b\n",
    "\n",
    "# solutions\n",
    "a, b = best_fit(d1[\"x\"], d1[\"y\"])\n",
    "\n",
    "\n",
    "# plot points and fit line\n",
    "plt.scatter(d1[\"x\"], d1[\"y\"])\n",
    "yfit = [a + b * xi for xi in d1[\"x\"]]\n",
    "plt.plot(d1[\"x\"], yfit)"
   ]
  },
  {
   "cell_type": "markdown",
   "metadata": {},
   "source": [
    "**The final model is:**\n",
    "<br>\n",
    "$y$ = $3.0$ + $0.5x$"
   ]
  },
  {
   "cell_type": "markdown",
   "metadata": {},
   "source": [
    "\n",
    "#### Part B: Make a scatter plot where the original x-values are the x-axis and the residuals of the line of best least-squares fit are the y-axis."
   ]
  },
  {
   "cell_type": "code",
   "execution_count": 145,
   "metadata": {
    "scrolled": true
   },
   "outputs": [
    {
     "data": {
      "text/plain": [
       "<matplotlib.collections.PathCollection at 0x7fc7c84d6190>"
      ]
     },
     "execution_count": 145,
     "metadata": {},
     "output_type": "execute_result"
    },
    {
     "data": {
      "image/png": "[encoded data removed]",
      "text/plain": [
       "<Figure size 432x288 with 1 Axes>"
      ]
     },
     "metadata": {
      "needs_background": "light"
     },
     "output_type": "display_data"
    }
   ],
   "source": [
    "resid = yfit - d1[\"y\"] #residuals are the difference between the line of best fit and y-vals\n",
    "\n",
    "plt.scatter(d1[\"x\"], resid)"
   ]
  },
  {
   "cell_type": "code",
   "execution_count": 146,
   "metadata": {},
   "outputs": [
    {
     "data": {
      "text/plain": [
       "(array([1., 2., 0., 0., 2., 3., 1., 0., 0., 2.]),\n",
       " array([-1.83881818, -1.46280909, -1.0868    , -0.71079091, -0.33478182,\n",
       "         0.04122727,  0.41723636,  0.79324545,  1.16925455,  1.54526364,\n",
       "         1.92127273]),\n",
       " <BarContainer object of 10 artists>)"
      ]
     },
     "execution_count": 146,
     "metadata": {},
     "output_type": "execute_result"
    },
    {
     "data": {
      "image/png": "[encoded data removed]",
      "text/plain": [
       "<Figure size 432x288 with 1 Axes>"
      ]
     },
     "metadata": {
      "needs_background": "light"
     },
     "output_type": "display_data"
    }
   ],
   "source": [
    "plt.hist(resid)"
   ]
  },
  {
   "cell_type": "markdown",
   "metadata": {},
   "source": [
    "\n",
    "#### Part C: For each of the 4 major assumptions of the simple linear regression model, use your plots in parts A and B to decide whether or not the data set meets those assumptions."
   ]
  },
  {
   "cell_type": "markdown",
   "metadata": {},
   "source": [
    "- There is a linear relationship in plot A\n",
    "- There is homoskedasticity of errors, from shape of plot in A\n",
    "- There is also independence of errors, we can see in the residual plot there isn't any correlation\n",
    "- The residuals of the model are normally distributed."
   ]
  },
  {
   "cell_type": "markdown",
   "metadata": {},
   "source": [
    "\n",
    "#### Part D: If the data set violated any assumptions in part C, adjust the model accordingly if possible.  Consider removing outliers, adding higher order polynomial terms, etc.  If you adjust the model, make another set of plots as in parts A and B of the new fit and the new residuals."
   ]
  },
  {
   "cell_type": "markdown",
   "metadata": {},
   "source": [
    "n/a"
   ]
  },
  {
   "cell_type": "markdown",
   "metadata": {},
   "source": [
    "\n",
    "#### Part E: Write a sentence or two describing your thought process above.  If you did not adjust a model, why not?  If you did, what are the effects?"
   ]
  },
  {
   "cell_type": "markdown",
   "metadata": {},
   "source": [
    "We don't adjust the model in the first part because our simple linear regression predicts the data well. The line of best fit is seen to be a reliable predictor. The residuals are evenly spaced apart as well."
   ]
  },
  {
   "cell_type": "markdown",
   "metadata": {},
   "source": [
    "<br>\n",
    "\n",
    "---\n",
    "<a/ id='p2'></a>\n",
    "[Back to top](#top)\n",
    "## [25 points] Data Set 2\n",
    "\n",
    "For the data set marked with \"II\" in the given data frame,  perform a regression analysis.  Use markdown to clearly mark each step.\n",
    "\n",
    "\n",
    "#### Part A: Make a scatter plot of the data set and overlay the line of best least-squares fit.  Print the summary table, and write the final model in a markdown cell."
   ]
  },
  {
   "cell_type": "code",
   "execution_count": 147,
   "metadata": {},
   "outputs": [
    {
     "name": "stdout",
     "output_type": "stream",
     "text": [
      "The summary is this,                              OLS Regression Results                            \n",
      "==============================================================================\n",
      "Dep. Variable:                      y   R-squared:                       0.666\n",
      "Model:                            OLS   Adj. R-squared:                  0.629\n",
      "Method:                 Least Squares   F-statistic:                     17.97\n",
      "Date:                Sat, 24 Apr 2021   Prob (F-statistic):            0.00218\n",
      "Time:                        16:04:06   Log-Likelihood:                -16.846\n",
      "No. Observations:                  11   AIC:                             37.69\n",
      "Df Residuals:                       9   BIC:                             38.49\n",
      "Df Model:                           1                                         \n",
      "Covariance Type:            nonrobust                                         \n",
      "==============================================================================\n",
      "                 coef    std err          t      P>|t|      [0.025      0.975]\n",
      "------------------------------------------------------------------------------\n",
      "const          3.0009      1.125      2.667      0.026       0.455       5.547\n",
      "x              0.5000      0.118      4.239      0.002       0.233       0.767\n",
      "==============================================================================\n",
      "Omnibus:                        1.594   Durbin-Watson:                   2.188\n",
      "Prob(Omnibus):                  0.451   Jarque-Bera (JB):                1.108\n",
      "Skew:                          -0.567   Prob(JB):                        0.575\n",
      "Kurtosis:                       1.936   Cond. No.                         29.1\n",
      "==============================================================================\n",
      "\n",
      "Notes:\n",
      "[1] Standard Errors assume that the covariance matrix of the errors is correctly specified.\n"
     ]
    },
    {
     "name": "stderr",
     "output_type": "stream",
     "text": [
      "/opt/anaconda3/lib/python3.8/site-packages/scipy/stats/stats.py:1603: UserWarning: kurtosistest only valid for n>=20 ... continuing anyway, n=11\n",
      "  warnings.warn(\"kurtosistest only valid for n>=20 ... continuing \"\n"
     ]
    },
    {
     "data": {
      "text/plain": [
       "[<matplotlib.lines.Line2D at 0x7fc7c86d0e20>]"
      ]
     },
     "execution_count": 147,
     "metadata": {},
     "output_type": "execute_result"
    },
    {
     "data": {
      "image/png": "[encoded data removed]",
      "text/plain": [
       "<Figure size 576x576 with 1 Axes>"
      ]
     },
     "metadata": {
      "needs_background": "light"
     },
     "output_type": "display_data"
    }
   ],
   "source": [
    "#copying over dataset 2\n",
    "d2 = df.iloc[11:22]\n",
    "\n",
    "fig, axes = plt.subplots(nrows=1, ncols=1, figsize=(8,8))\n",
    "axes.scatter(d2[\"x\"], d2[\"y\"])\n",
    "axes.set_xlabel(\"x values\", fontsize=16)\n",
    "axes.set_ylabel(\"y values\", fontsize=16)\n",
    "\n",
    "model = sm.OLS(d2[\"y\"], sm.add_constant(d2[\"x\"])).fit()\n",
    "print(\"The summary is this, \", model.summary())\n",
    "\n",
    "c, d = best_fit(d2[\"x\"], d2[\"y\"])\n",
    "\n",
    "# plot points and fit line\n",
    "plt.scatter(d2[\"x\"], d2[\"y\"])\n",
    "yfit1 = [c + d * xi for xi in d2[\"x\"]]\n",
    "plt.plot(d2[\"x\"], yfit1)"
   ]
  },
  {
   "cell_type": "markdown",
   "metadata": {},
   "source": [
    "**The final model is:**\n",
    "<br>\n",
    "$y$ = $3.0$ + $0.5x$"
   ]
  },
  {
   "cell_type": "code",
   "execution_count": 148,
   "metadata": {},
   "outputs": [
    {
     "data": {
      "image/png": "[encoded data removed]",
      "text/plain": [
       "<Figure size 360x360 with 1 Axes>"
      ]
     },
     "metadata": {
      "needs_background": "light"
     },
     "output_type": "display_data"
    }
   ],
   "source": [
    "#to check for linearity\n",
    "fig, ax = plt.subplots(nrows=1, ncols=1, figsize=(5,5))\n",
    "\n",
    "#plot the data\n",
    "plt.scatter(d2['x'], d2['y'])\n",
    "ax.set_xlabel('x values')\n",
    "ax.set_ylabel('y values')\n",
    "\n",
    "#plot our fit\n",
    "plt.plot(d2['x'], model.fittedvalues)\n",
    "yfit1 = [c + d * xi for xi in d2[\"x\"]]\n",
    "res = d2[\"y\"] - model.fittedvalues #residuals are the difference between the line of best fit and y-vals"
   ]
  },
  {
   "cell_type": "code",
   "execution_count": 149,
   "metadata": {},
   "outputs": [
    {
     "data": {
      "text/plain": [
       "(array([2., 0., 0., 2., 0., 0., 2., 0., 2., 3.]),\n",
       " array([-1.90090909e+00, -1.58390909e+00, -1.26690909e+00, -9.49909091e-01,\n",
       "        -6.32909091e-01, -3.15909091e-01,  1.09090909e-03,  3.18090909e-01,\n",
       "         6.35090909e-01,  9.52090909e-01,  1.26909091e+00]),\n",
       " <BarContainer object of 10 artists>)"
      ]
     },
     "execution_count": 149,
     "metadata": {},
     "output_type": "execute_result"
    },
    {
     "data": {
      "image/png": "[encoded data removed]",
      "text/plain": [
       "<Figure size 432x288 with 1 Axes>"
      ]
     },
     "metadata": {
      "needs_background": "light"
     },
     "output_type": "display_data"
    }
   ],
   "source": [
    "#to check if residuals are normally distributed\n",
    "#look for outliers at tails (skew) or missing near the middle (kurtosis)\n",
    "plt.hist(model.resid)\n",
    "\n",
    "#alternative way to print residuals is below\n",
    "#plt.hist(res)"
   ]
  },
  {
   "cell_type": "markdown",
   "metadata": {},
   "source": [
    "\n",
    "#### Part B: Make a scatter plot where the original x-values are the x-axis and the residuals of the line of best least-squares fit are the y-axis."
   ]
  },
  {
   "cell_type": "code",
   "execution_count": 150,
   "metadata": {},
   "outputs": [
    {
     "data": {
      "text/plain": [
       "<matplotlib.collections.PathCollection at 0x7fc7c8926d90>"
      ]
     },
     "execution_count": 150,
     "metadata": {},
     "output_type": "execute_result"
    },
    {
     "data": {
      "image/png": "[encoded data removed]",
      "text/plain": [
       "<Figure size 432x288 with 1 Axes>"
      ]
     },
     "metadata": {
      "needs_background": "light"
     },
     "output_type": "display_data"
    }
   ],
   "source": [
    "# plt.scatter(d2['y'], model.resid)\n",
    "\n",
    "#print(yfit)\n",
    "res = yfit1 - d2[\"y\"] #residuals are the difference between the line of best fit and y-vals\n",
    "#print(resid)\n",
    "plt.scatter(d2[\"x\"], res)\n",
    "\n",
    "# plt.hist(resid)"
   ]
  },
  {
   "cell_type": "markdown",
   "metadata": {},
   "source": [
    "\n",
    "#### Part C: For each of the 4 major assumptions of the simple linear regression model, use your plots in parts A and B to decide whether or not the data set meets those assumptions."
   ]
  },
  {
   "cell_type": "markdown",
   "metadata": {},
   "source": [
    "- There is not a linear relationship, seen from the scatter plot\n",
    "- There is not homoskedasticity of errors\n",
    "- There is also not independence of errors\n",
    "- The residuals of the model are not normally distributed."
   ]
  },
  {
   "cell_type": "markdown",
   "metadata": {},
   "source": [
    "\n",
    "#### Part D: If the data set violated any assumptions in part C, adjust the model accordingly if possible.  Consider removing outliers, adding higher order polynomial terms, etc.  If you adjust the model, make another set of plots as in parts A and B of the new fit and the new residuals."
   ]
  },
  {
   "cell_type": "code",
   "execution_count": 151,
   "metadata": {},
   "outputs": [
    {
     "name": "stdout",
     "output_type": "stream",
     "text": [
      "                            OLS Regression Results                            \n",
      "==============================================================================\n",
      "Dep. Variable:                      y   R-squared:                       1.000\n",
      "Model:                            OLS   Adj. R-squared:                  1.000\n",
      "Method:                 Least Squares   F-statistic:                 7.378e+06\n",
      "Date:                Sat, 24 Apr 2021   Prob (F-statistic):           8.64e-26\n",
      "Time:                        16:04:07   Log-Likelihood:                 56.471\n",
      "No. Observations:                  11   AIC:                            -106.9\n",
      "Df Residuals:                       8   BIC:                            -105.7\n",
      "Df Model:                           2                                         \n",
      "Covariance Type:            nonrobust                                         \n",
      "==============================================================================\n",
      "                 coef    std err          t      P>|t|      [0.025      0.975]\n",
      "------------------------------------------------------------------------------\n",
      "Intercept     -5.9957      0.004  -1384.713      0.000      -6.006      -5.986\n",
      "x              2.7808      0.001   2673.741      0.000       2.778       2.783\n",
      "xsq           -0.1267   5.71e-05  -2219.238      0.000      -0.127      -0.127\n",
      "==============================================================================\n",
      "Omnibus:                        2.566   Durbin-Watson:                   2.286\n",
      "Prob(Omnibus):                  0.277   Jarque-Bera (JB):                1.697\n",
      "Skew:                           0.809   Prob(JB):                        0.428\n",
      "Kurtosis:                       1.959   Cond. No.                         954.\n",
      "==============================================================================\n",
      "\n",
      "Notes:\n",
      "[1] Standard Errors assume that the covariance matrix of the errors is correctly specified.\n"
     ]
    },
    {
     "name": "stderr",
     "output_type": "stream",
     "text": [
      "<ipython-input-151-02a9a8d24bdb>:16: SettingWithCopyWarning: \n",
      "A value is trying to be set on a copy of a slice from a DataFrame.\n",
      "Try using .loc[row_indexer,col_indexer] = value instead\n",
      "\n",
      "See the caveats in the documentation: https://pandas.pydata.org/pandas-docs/stable/user_guide/indexing.html#returning-a-view-versus-a-copy\n",
      "  d2['xsq'] = xsq\n",
      "/opt/anaconda3/lib/python3.8/site-packages/scipy/stats/stats.py:1603: UserWarning: kurtosistest only valid for n>=20 ... continuing anyway, n=11\n",
      "  warnings.warn(\"kurtosistest only valid for n>=20 ... continuing \"\n",
      "/opt/anaconda3/lib/python3.8/site-packages/scipy/stats/stats.py:1603: UserWarning: kurtosistest only valid for n>=20 ... continuing anyway, n=11\n",
      "  warnings.warn(\"kurtosistest only valid for n>=20 ... continuing \"\n"
     ]
    },
    {
     "data": {
      "image/png": "[encoded data removed]",
      "text/plain": [
       "<Figure size 432x288 with 1 Axes>"
      ]
     },
     "metadata": {
      "needs_background": "light"
     },
     "output_type": "display_data"
    }
   ],
   "source": [
    "# model = sm.OLS(d2[\"y\"], sm.add_constant(d2[\"x\"])).fit()\n",
    "#use column_stack to add a column\n",
    "\n",
    "# for i in range(len(d2)):\n",
    "#     if i > 0:\n",
    "        \n",
    "# print(xsq, d2[\"x\"])\n",
    "d2new = np.column_stack((d2, xsq))\n",
    "# print(d2new)\n",
    "# print(d2new.shape)\n",
    "# print(d2)\n",
    "\n",
    "########Newcode################\n",
    "\n",
    "xsq = d2[\"x\"]**2\n",
    "d2['xsq'] = xsq\n",
    "\n",
    "y, X = dmatrices(\"y ~ x+xsq\", data=d2, eval_env=0, return_type='dataframe')\n",
    "\n",
    "\n",
    "mlrquad=sm.OLS(y, X).fit()\n",
    "mlrquad.summary()\n",
    "\n",
    "plt.scatter(d2['x'], d2['y'])\n",
    "plt.plot(d2['x'], mlrquad.fittedvalues)\n",
    "# print(d2)\n",
    "\n",
    "print(mlrquad.summary())\n"
   ]
  },
  {
   "cell_type": "markdown",
   "metadata": {},
   "source": [
    "**The final model is:**\n",
    "<br>\n",
    "$y$ = $-6.00$ + $2.78x$ $-0.12x^2$"
   ]
  },
  {
   "cell_type": "markdown",
   "metadata": {},
   "source": [
    "\n",
    "#### Part E: Write a sentence or two describing your thought process above.  If you did not adjust a model, why not?  If you did, what are the effects?"
   ]
  },
  {
   "cell_type": "markdown",
   "metadata": {},
   "source": [
    "The model residuals are said to suffer from heteroscedasticity. Also there isn't normality in the residuals nor independence of errors. In order to fix these issues I added a squared term to make the model quadratic. We can see there should be a better fit here (although the graph looks like a bunch of sribbles, I don't know why I copied the code exact from the inclass notebooks)."
   ]
  },
  {
   "cell_type": "markdown",
   "metadata": {},
   "source": [
    "<br>\n",
    "\n",
    "---\n",
    "<a/ id='p3'></a>\n",
    "[Back to top](#top)\n",
    "## [25 points] Data Set 3\n",
    "\n",
    "For the data set marked with \"III\" in the given data frame,  perform a regression analysis.  Use markdown to clearly mark each step.\n",
    "\n",
    "\n",
    "#### Part A: Make a scatter plot of the data set and overlay the line of best least-squares fit.  Print the summary table, and write the final model in a markdown cell."
   ]
  },
  {
   "cell_type": "code",
   "execution_count": 152,
   "metadata": {},
   "outputs": [
    {
     "name": "stdout",
     "output_type": "stream",
     "text": [
      "The summary is this,                              OLS Regression Results                            \n",
      "==============================================================================\n",
      "Dep. Variable:                      y   R-squared:                       0.666\n",
      "Model:                            OLS   Adj. R-squared:                  0.629\n",
      "Method:                 Least Squares   F-statistic:                     17.97\n",
      "Date:                Sat, 24 Apr 2021   Prob (F-statistic):            0.00218\n",
      "Time:                        16:04:07   Log-Likelihood:                -16.838\n",
      "No. Observations:                  11   AIC:                             37.68\n",
      "Df Residuals:                       9   BIC:                             38.47\n",
      "Df Model:                           1                                         \n",
      "Covariance Type:            nonrobust                                         \n",
      "==============================================================================\n",
      "                 coef    std err          t      P>|t|      [0.025      0.975]\n",
      "------------------------------------------------------------------------------\n",
      "const          3.0025      1.124      2.670      0.026       0.459       5.546\n",
      "x              0.4997      0.118      4.239      0.002       0.233       0.766\n",
      "==============================================================================\n",
      "Omnibus:                       19.540   Durbin-Watson:                   2.144\n",
      "Prob(Omnibus):                  0.000   Jarque-Bera (JB):               13.478\n",
      "Skew:                           2.041   Prob(JB):                      0.00118\n",
      "Kurtosis:                       6.571   Cond. No.                         29.1\n",
      "==============================================================================\n",
      "\n",
      "Notes:\n",
      "[1] Standard Errors assume that the covariance matrix of the errors is correctly specified.\n"
     ]
    },
    {
     "data": {
      "text/plain": [
       "[<matplotlib.lines.Line2D at 0x7fc7c8b130a0>]"
      ]
     },
     "execution_count": 152,
     "metadata": {},
     "output_type": "execute_result"
    },
    {
     "data": {
      "image/png": "[encoded data removed]",
      "text/plain": [
       "<Figure size 360x360 with 1 Axes>"
      ]
     },
     "metadata": {
      "needs_background": "light"
     },
     "output_type": "display_data"
    }
   ],
   "source": [
    "#copying over dataset 3\n",
    "d3 = df.iloc[22:33]\n",
    "\n",
    "fig, axes = plt.subplots(nrows=1, ncols=1, figsize=(5,5))\n",
    "axes.scatter(d3[\"x\"], d3[\"y\"])\n",
    "axes.set_xlabel(\"x values\", fontsize=16)\n",
    "axes.set_ylabel(\"y values\", fontsize=16)\n",
    "\n",
    "model = sm.OLS(d3[\"y\"], sm.add_constant(d3[\"x\"])).fit()\n",
    "print(\"The summary is this, \", model.summary())\n",
    "\n",
    "c, d = best_fit(d3[\"x\"], d3[\"y\"])\n",
    "\n",
    "# plot points and fit line\n",
    "plt.scatter(d3[\"x\"], d3[\"y\"])\n",
    "yfit1 = [c + d * xi for xi in d3[\"x\"]]\n",
    "plt.plot(d3[\"x\"], yfit1)"
   ]
  },
  {
   "cell_type": "markdown",
   "metadata": {},
   "source": [
    "**The final model is:**\n",
    "<br>\n",
    "$y$ = $3.0$ + $0.5x$"
   ]
  },
  {
   "cell_type": "markdown",
   "metadata": {},
   "source": [
    "\n",
    "#### Part B: Make a scatter plot where the original x-values are the x-axis and the residuals of the line of best least-squares fit are the y-axis."
   ]
  },
  {
   "cell_type": "code",
   "execution_count": 153,
   "metadata": {},
   "outputs": [
    {
     "data": {
      "text/plain": [
       "<matplotlib.collections.PathCollection at 0x7fc7c8b79970>"
      ]
     },
     "execution_count": 153,
     "metadata": {},
     "output_type": "execute_result"
    },
    {
     "data": {
      "image/png": "[encoded data removed]",
      "text/plain": [
       "<Figure size 432x288 with 1 Axes>"
      ]
     },
     "metadata": {
      "needs_background": "light"
     },
     "output_type": "display_data"
    }
   ],
   "source": [
    "# plt.scatter(d3['y'], model.resid)\n",
    "\n",
    "#print(yfit)\n",
    "res = yfit1 - d3[\"y\"] #residuals are the difference between the line of best fit and y-vals\n",
    "#print(resid)\n",
    "plt.scatter(d3[\"x\"], res)"
   ]
  },
  {
   "cell_type": "code",
   "execution_count": 154,
   "metadata": {},
   "outputs": [
    {
     "data": {
      "text/plain": [
       "(array([1., 0., 0., 0., 0., 0., 2., 3., 3., 2.]),\n",
       " array([-3.24109091, -2.80111818, -2.36114545, -1.92117273, -1.4812    ,\n",
       "        -1.04122727, -0.60125455, -0.16128182,  0.27869091,  0.71866364,\n",
       "         1.15863636]),\n",
       " <BarContainer object of 10 artists>)"
      ]
     },
     "execution_count": 154,
     "metadata": {},
     "output_type": "execute_result"
    },
    {
     "data": {
      "image/png": "[encoded data removed]",
      "text/plain": [
       "<Figure size 432x288 with 1 Axes>"
      ]
     },
     "metadata": {
      "needs_background": "light"
     },
     "output_type": "display_data"
    }
   ],
   "source": [
    "plt.hist(res)"
   ]
  },
  {
   "cell_type": "markdown",
   "metadata": {},
   "source": [
    "\n",
    "#### Part C: For each of the 4 major assumptions of the simple linear regression model, use your plots in parts A and B to decide whether or not the data set meets those assumptions."
   ]
  },
  {
   "cell_type": "markdown",
   "metadata": {},
   "source": [
    "- There is a linear relationship, seen from the scatter plot\n",
    "- There is homoskedasticity of errors\n",
    "- There is not independence of errors\n",
    "- The residuals of the model are normally distributed."
   ]
  },
  {
   "cell_type": "markdown",
   "metadata": {},
   "source": [
    "\n",
    "#### Part D: If the data set violated any assumptions in part C, adjust the model accordingly if possible.  Consider removing outliers, adding higher order polynomial terms, etc.  If you adjust the model, make another set of plots as in parts A and B of the new fit and the new residuals."
   ]
  },
  {
   "cell_type": "markdown",
   "metadata": {},
   "source": [
    "I will adjust the model by removing the outlier point (13.0, 12.74)"
   ]
  },
  {
   "cell_type": "code",
   "execution_count": 155,
   "metadata": {},
   "outputs": [
    {
     "name": "stdout",
     "output_type": "stream",
     "text": [
      "   dataset     x     y\n",
      "22     III  10.0  7.46\n",
      "23     III   8.0  6.77\n",
      "25     III   9.0  7.11\n",
      "26     III  11.0  7.81\n",
      "27     III  14.0  8.84\n",
      "28     III   6.0  6.08\n",
      "29     III   4.0  5.39\n",
      "30     III  12.0  8.15\n",
      "31     III   7.0  6.42\n",
      "32     III   5.0  5.73\n"
     ]
    }
   ],
   "source": [
    "#dropping the row for the outlier\n",
    "d3 = d3.drop(labels=24, axis=0)\n",
    "print(d3)"
   ]
  },
  {
   "cell_type": "code",
   "execution_count": 156,
   "metadata": {},
   "outputs": [
    {
     "name": "stdout",
     "output_type": "stream",
     "text": [
      "The summary is this,                              OLS Regression Results                            \n",
      "==============================================================================\n",
      "Dep. Variable:                      y   R-squared:                       1.000\n",
      "Model:                            OLS   Adj. R-squared:                  1.000\n",
      "Method:                 Least Squares   F-statistic:                 1.161e+06\n",
      "Date:                Sat, 24 Apr 2021   Prob (F-statistic):           6.17e-22\n",
      "Time:                        16:04:08   Log-Likelihood:                 44.749\n",
      "No. Observations:                  10   AIC:                            -85.50\n",
      "Df Residuals:                       8   BIC:                            -84.89\n",
      "Df Model:                           1                                         \n",
      "Covariance Type:            nonrobust                                         \n",
      "==============================================================================\n",
      "                 coef    std err          t      P>|t|      [0.025      0.975]\n",
      "------------------------------------------------------------------------------\n",
      "const          4.0056      0.003   1369.808      0.000       3.999       4.012\n",
      "x              0.3454      0.000   1077.352      0.000       0.345       0.346\n",
      "==============================================================================\n",
      "Omnibus:                        0.202   Durbin-Watson:                   2.405\n",
      "Prob(Omnibus):                  0.904   Jarque-Bera (JB):                0.377\n",
      "Skew:                           0.156   Prob(JB):                        0.828\n",
      "Kurtosis:                       2.101   Cond. No.                         27.7\n",
      "==============================================================================\n",
      "\n",
      "Notes:\n",
      "[1] Standard Errors assume that the covariance matrix of the errors is correctly specified.\n"
     ]
    },
    {
     "name": "stderr",
     "output_type": "stream",
     "text": [
      "/opt/anaconda3/lib/python3.8/site-packages/scipy/stats/stats.py:1603: UserWarning: kurtosistest only valid for n>=20 ... continuing anyway, n=10\n",
      "  warnings.warn(\"kurtosistest only valid for n>=20 ... continuing \"\n"
     ]
    },
    {
     "data": {
      "text/plain": [
       "[<matplotlib.lines.Line2D at 0x7fc7a8dd8e50>]"
      ]
     },
     "execution_count": 156,
     "metadata": {},
     "output_type": "execute_result"
    },
    {
     "data": {
      "image/png": "[encoded data removed]",
      "text/plain": [
       "<Figure size 360x360 with 1 Axes>"
      ]
     },
     "metadata": {
      "needs_background": "light"
     },
     "output_type": "display_data"
    }
   ],
   "source": [
    "\n",
    "fig, axes = plt.subplots(nrows=1, ncols=1, figsize=(5,5))\n",
    "axes.scatter(d3[\"x\"], d3[\"y\"])\n",
    "axes.set_xlabel(\"x values\", fontsize=16)\n",
    "axes.set_ylabel(\"y values\", fontsize=16)\n",
    "\n",
    "model = sm.OLS(d3[\"y\"],  sm.add_constant(d3[\"x\"])).fit()\n",
    "print(\"The summary is this, \", model.summary())\n",
    "\n",
    "c, d = best_fit(d3[\"x\"], d3[\"y\"])\n",
    "\n",
    "# plot points and fit line\n",
    "plt.scatter(d3[\"x\"], d3[\"y\"])\n",
    "yfit1 = [c + d * xi for xi in d3[\"x\"]]\n",
    "plt.plot(d3[\"x\"], yfit1)"
   ]
  },
  {
   "cell_type": "code",
   "execution_count": 157,
   "metadata": {},
   "outputs": [
    {
     "data": {
      "text/plain": [
       "<matplotlib.collections.PathCollection at 0x7fc7a8ec0eb0>"
      ]
     },
     "execution_count": 157,
     "metadata": {},
     "output_type": "execute_result"
    },
    {
     "data": {
      "image/png": "[encoded data removed]",
      "text/plain": [
       "<Figure size 432x288 with 1 Axes>"
      ]
     },
     "metadata": {
      "needs_background": "light"
     },
     "output_type": "display_data"
    }
   ],
   "source": [
    "res = yfit1 - d3[\"y\"] #residuals are the difference between the line of best fit and y-vals\n",
    "#print(resid)\n",
    "plt.scatter(d3[\"x\"], res)"
   ]
  },
  {
   "cell_type": "markdown",
   "metadata": {},
   "source": [
    "\n",
    "#### Part E: Write a sentence or two describing your thought process above.  If you did not adjust a model, why not?  If you did, what are the effects?"
   ]
  },
  {
   "cell_type": "markdown",
   "metadata": {},
   "source": [
    "The outlier was skewing the line of best fit too much so I removed the point. We can see after we remove the point the line of best fit is a much better predictor than before."
   ]
  },
  {
   "cell_type": "markdown",
   "metadata": {},
   "source": [
    "<br>\n",
    "\n",
    "---\n",
    "<a/ id='p4'></a>\n",
    "[Back to top](#top)\n",
    "## [25 points] Data Set 4\n",
    "\n",
    "For the data set marked with \"IV\" in the given data frame, perform a regression analysis.  Use markdown to clearly mark each step.\n",
    "\n",
    "\n",
    "#### Part A: Make a scatter plot of the data set and overlay the line of best least-squares fit.  Print the summary table, and write the final model in a markdown cell."
   ]
  },
  {
   "cell_type": "code",
   "execution_count": 158,
   "metadata": {},
   "outputs": [
    {
     "name": "stdout",
     "output_type": "stream",
     "text": [
      "The summary is this,                              OLS Regression Results                            \n",
      "==============================================================================\n",
      "Dep. Variable:                      y   R-squared:                       0.667\n",
      "Model:                            OLS   Adj. R-squared:                  0.630\n",
      "Method:                 Least Squares   F-statistic:                     18.00\n",
      "Date:                Sat, 24 Apr 2021   Prob (F-statistic):            0.00216\n",
      "Time:                        16:04:09   Log-Likelihood:                -16.833\n",
      "No. Observations:                  11   AIC:                             37.67\n",
      "Df Residuals:                       9   BIC:                             38.46\n",
      "Df Model:                           1                                         \n",
      "Covariance Type:            nonrobust                                         \n",
      "==============================================================================\n",
      "                 coef    std err          t      P>|t|      [0.025      0.975]\n",
      "------------------------------------------------------------------------------\n",
      "const          3.0017      1.124      2.671      0.026       0.459       5.544\n",
      "x              0.4999      0.118      4.243      0.002       0.233       0.766\n",
      "==============================================================================\n",
      "Omnibus:                        0.555   Durbin-Watson:                   1.662\n",
      "Prob(Omnibus):                  0.758   Jarque-Bera (JB):                0.524\n",
      "Skew:                           0.010   Prob(JB):                        0.769\n",
      "Kurtosis:                       1.931   Cond. No.                         29.1\n",
      "==============================================================================\n",
      "\n",
      "Notes:\n",
      "[1] Standard Errors assume that the covariance matrix of the errors is correctly specified.\n"
     ]
    },
    {
     "name": "stderr",
     "output_type": "stream",
     "text": [
      "/opt/anaconda3/lib/python3.8/site-packages/scipy/stats/stats.py:1603: UserWarning: kurtosistest only valid for n>=20 ... continuing anyway, n=11\n",
      "  warnings.warn(\"kurtosistest only valid for n>=20 ... continuing \"\n"
     ]
    },
    {
     "data": {
      "text/plain": [
       "[<matplotlib.lines.Line2D at 0x7fc7a8f5dcd0>]"
      ]
     },
     "execution_count": 158,
     "metadata": {},
     "output_type": "execute_result"
    },
    {
     "data": {
      "image/png": "[encoded data removed]",
      "text/plain": [
       "<Figure size 576x576 with 1 Axes>"
      ]
     },
     "metadata": {
      "needs_background": "light"
     },
     "output_type": "display_data"
    }
   ],
   "source": [
    "#copying over dataset 4\n",
    "d4 = df.iloc[33:]\n",
    "\n",
    "fig, axes = plt.subplots(nrows=1, ncols=1, figsize=(8,8))\n",
    "axes.scatter(d4[\"x\"], d4[\"y\"])\n",
    "axes.set_xlabel(\"x values\", fontsize=16)\n",
    "axes.set_ylabel(\"y values\", fontsize=16)\n",
    "\n",
    "model = sm.OLS(d4[\"y\"], sm.add_constant(d4[\"x\"])).fit()\n",
    "print(\"The summary is this, \", model.summary())\n",
    "\n",
    "\n",
    "c, d = best_fit(d4[\"x\"], d4[\"y\"])\n",
    "\n",
    "# plot points and fit line\n",
    "plt.scatter(d4[\"x\"], d4[\"y\"])\n",
    "yfit1 = [c + d * xi for xi in d2[\"x\"]]\n",
    "plt.plot(d4[\"x\"], yfit1)\n"
   ]
  },
  {
   "cell_type": "markdown",
   "metadata": {},
   "source": [
    "**The final model is:**\n",
    "<br>\n",
    "$y$ = $3.0$ + $0.5x$"
   ]
  },
  {
   "cell_type": "markdown",
   "metadata": {},
   "source": [
    "\n",
    "#### Part B: Make a scatter plot where the original x-values are the x-axis and the residuals of the line of best least-squares fit are the y-axis."
   ]
  },
  {
   "cell_type": "code",
   "execution_count": 159,
   "metadata": {},
   "outputs": [
    {
     "data": {
      "text/plain": [
       "<matplotlib.collections.PathCollection at 0x7fc7a915bc10>"
      ]
     },
     "execution_count": 159,
     "metadata": {},
     "output_type": "execute_result"
    },
    {
     "data": {
      "image/png": "[encoded data removed]",
      "text/plain": [
       "<Figure size 432x288 with 1 Axes>"
      ]
     },
     "metadata": {
      "needs_background": "light"
     },
     "output_type": "display_data"
    }
   ],
   "source": [
    "res = yfit1 - d4[\"y\"] #residuals are the difference between the line of best fit and y-vals\n",
    "#print(resid)\n",
    "plt.scatter(d4[\"x\"], res)\n",
    "\n"
   ]
  },
  {
   "cell_type": "code",
   "execution_count": 160,
   "metadata": {},
   "outputs": [
    {
     "data": {
      "text/plain": [
       "(array([1., 0., 0., 0., 0., 3., 1., 2., 2., 2.]),\n",
       " array([-7.49863636, -6.40470909, -5.31078182, -4.21685455, -3.12292727,\n",
       "        -2.029     , -0.93507273,  0.15885455,  1.25278182,  2.34670909,\n",
       "         3.44063636]),\n",
       " <BarContainer object of 10 artists>)"
      ]
     },
     "execution_count": 160,
     "metadata": {},
     "output_type": "execute_result"
    },
    {
     "data": {
      "image/png": "[encoded data removed]",
      "text/plain": [
       "<Figure size 432x288 with 1 Axes>"
      ]
     },
     "metadata": {
      "needs_background": "light"
     },
     "output_type": "display_data"
    }
   ],
   "source": [
    "plt.hist(res)"
   ]
  },
  {
   "cell_type": "markdown",
   "metadata": {},
   "source": [
    "\n",
    "#### Part C: For each of the 4 major assumptions of the simple linear regression model, use your plots in parts A and B to decide whether or not the data set meets those assumptions."
   ]
  },
  {
   "cell_type": "markdown",
   "metadata": {},
   "source": [
    "- There is not a linear relationship, seen from the scatter plot\n",
    "- There is homoskedasticity of errors for the most part\n",
    "- There is independence of errors\n",
    "- The residuals of the model are normally distributed."
   ]
  },
  {
   "cell_type": "markdown",
   "metadata": {},
   "source": [
    "\n",
    "#### Part D: If the data set violated any assumptions in part C, adjust the model accordingly if possible.  Consider removing outliers, adding higher order polynomial terms, etc.  If you adjust the model, make another set of plots as in parts A and B of the new fit and the new residuals."
   ]
  },
  {
   "cell_type": "markdown",
   "metadata": {},
   "source": [
    "I wouldn't adjust this model in this case because it doesn't make sense to try to do a regression on a vertical set of points. The slope is zero."
   ]
  },
  {
   "cell_type": "markdown",
   "metadata": {},
   "source": [
    "\n",
    "#### Part E: Write a sentence or two describing your thought process above.  If you did not adjust a model, why not?  If you did, what are the effects?"
   ]
  },
  {
   "cell_type": "markdown",
   "metadata": {},
   "source": [
    "In this dataset one high leverage point (the point to the top right) is far enough to impact the model and make it seem from the table that there is a correlation coefficient."
   ]
  }
 ],
 "metadata": {
  "kernelspec": {
   "display_name": "Python 3",
   "language": "python",
   "name": "python3"
  },
  "language_info": {
   "codemirror_mode": {
    "name": "ipython",
    "version": 3
   },
   "file_extension": ".py",
   "mimetype": "text/x-python",
   "name": "python",
   "nbconvert_exporter": "python",
   "pygments_lexer": "ipython3",
   "version": "3.8.5"
  }
 },
 "nbformat": 4,
 "nbformat_minor": 2
}
