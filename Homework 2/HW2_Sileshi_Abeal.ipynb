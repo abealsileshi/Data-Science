{
 "cells": [
  {
   "cell_type": "markdown",
   "metadata": {},
   "source": [
    "<a id='top'></a>\n",
    "\n",
    "# CSCI3022 S21\n",
    "# Homework 2: Data Wrangling and Visualizations\n",
    "***\n",
    "\n",
    "**Name**: Abeal Sileshi\n",
    "\n",
    "***\n",
    "\n",
    "This assignment is due on Canvas by **MIDNIGHT on Monday, February 8**. Your solutions to theoretical questions should be done in Markdown directly below the associated question.  Your solutions to computational questions should include any specified Python code and results as well as written commentary on your conclusions.  Remember that you are encouraged to discuss the problems with your classmates, but **you must write all code and solutions on your own**.\n",
    "\n",
    "**NOTES**: \n",
    "\n",
    "- Any relevant data sets should be available on Canvas. To make life easier on the graders if they need to run your code, do not change the relative path names here. Instead, move the files around on your computer.\n",
    "- If you're not familiar with typesetting math directly into Markdown then by all means, do your work on paper first and then typeset it later.  Here is a [reference guide](https://math.meta.stackexchange.com/questions/5020/mathjax-basic-tutorial-and-quick-reference) linked on Canvas on writing math in Markdown. **All** of your written commentary, justifications and mathematical work should be in Markdown.  I also recommend the [wikibook](https://en.wikibooks.org/wiki/LaTeX) for LaTex.\n",
    "- Because you can technically evaluate notebook cells is a non-linear order, it's a good idea to do **Kernel $\\rightarrow$ Restart & Run All** as a check before submitting your solutions.  That way if we need to run your code you will know that it will work as expected. \n",
    "- It is **bad form** to make your reader interpret numerical output from your code.  If a question asks you to compute some value from the data you should show your code output **AND** write a summary of the results in Markdown directly below your code. \n",
    "- 95 points of this assignment are in problems.  The remaining 5 are for neatness, style, and overall exposition of both code and text.\n",
    "- This probably goes without saying, but... For any question that asks you to calculate something, you **must show all work and justify your answers to receive credit**. Sparse or nonexistent work will receive sparse or nonexistent credit. \n",
    "\n",
    "---\n",
    "**Shortcuts:**  [Problem 1](#p1) | [Problem 2](#p2) |\n",
    "---"
   ]
  },
  {
   "cell_type": "code",
   "execution_count": null,
   "metadata": {},
   "outputs": [],
   "source": []
  },
  {
   "cell_type": "code",
   "execution_count": 1,
   "metadata": {},
   "outputs": [],
   "source": [
    "import pandas as pd\n",
    "import numpy as np\n",
    "import matplotlib.pylab as plt\n",
    "%matplotlib inline"
   ]
  },
  {
   "cell_type": "markdown",
   "metadata": {},
   "source": [
    "[Back to top](#top)\n",
    "\n",
    "<a id='p1'></a>\n",
    "\n",
    "## (25 pts) Problem 1: Data (Probability and Histograms)\n",
    "*** \n",
    "The sinking of the RMS Titanic was a terrible tragedy that saw the loss of many lives. Even within this tragedy, thanks to the combinations of the records of the White Star Line and the thorough nature of follow-up research after the accident we have some records that can help us try to piece together the course of events on board the ship. Many of the historians and other researchers who have investigated this event have speculated as to what exactly happened.\n",
    "\n",
    "We have the data on survival rates by class, gender, and age, so let's figure out whether there is evidence for some of these scenarios. Access the Titanic data in `titanic_data.csv` and store it in a Pandas DataFrame. The data contains information pertaining to class status (**Pclass**), survival (**Survived**), and gender (**Sex**) of passengers, among other things. Be sure to use the `titanic_data.csv` data set, *not* the `clean_titanic_data` file or `dirty_titanic_data` file from the in-class notebook exercises."
   ]
  },
  {
   "cell_type": "code",
   "execution_count": 2,
   "metadata": {},
   "outputs": [
    {
     "data": {
      "text/html": [
       "<div>\n",
       "<style scoped>\n",
       "    .dataframe tbody tr th:only-of-type {\n",
       "        vertical-align: middle;\n",
       "    }\n",
       "\n",
       "    .dataframe tbody tr th {\n",
       "        vertical-align: top;\n",
       "    }\n",
       "\n",
       "    .dataframe thead th {\n",
       "        text-align: right;\n",
       "    }\n",
       "</style>\n",
       "<table border=\"1\" class=\"dataframe\">\n",
       "  <thead>\n",
       "    <tr style=\"text-align: right;\">\n",
       "      <th></th>\n",
       "      <th>PassengerId</th>\n",
       "      <th>Survived</th>\n",
       "      <th>Pclass</th>\n",
       "      <th>Name</th>\n",
       "      <th>Sex</th>\n",
       "      <th>Age</th>\n",
       "      <th>SibSp</th>\n",
       "      <th>Parch</th>\n",
       "      <th>Ticket</th>\n",
       "      <th>Fare</th>\n",
       "      <th>Cabin</th>\n",
       "      <th>Embarked</th>\n",
       "    </tr>\n",
       "  </thead>\n",
       "  <tbody>\n",
       "    <tr>\n",
       "      <th>0</th>\n",
       "      <td>1</td>\n",
       "      <td>0</td>\n",
       "      <td>3</td>\n",
       "      <td>Braund, Mr. Owen Harris</td>\n",
       "      <td>male</td>\n",
       "      <td>36.0</td>\n",
       "      <td>1</td>\n",
       "      <td>0</td>\n",
       "      <td>A/5 21171</td>\n",
       "      <td>7.2500</td>\n",
       "      <td>NaN</td>\n",
       "      <td>S</td>\n",
       "    </tr>\n",
       "    <tr>\n",
       "      <th>1</th>\n",
       "      <td>2</td>\n",
       "      <td>1</td>\n",
       "      <td>1</td>\n",
       "      <td>Cumings, Mrs. John Bradley (Florence Briggs Th...</td>\n",
       "      <td>female</td>\n",
       "      <td>18.0</td>\n",
       "      <td>1</td>\n",
       "      <td>0</td>\n",
       "      <td>PC 17599</td>\n",
       "      <td>71.2833</td>\n",
       "      <td>C85</td>\n",
       "      <td>C</td>\n",
       "    </tr>\n",
       "    <tr>\n",
       "      <th>2</th>\n",
       "      <td>3</td>\n",
       "      <td>1</td>\n",
       "      <td>3</td>\n",
       "      <td>Heikkinen, Miss. Laina</td>\n",
       "      <td>female</td>\n",
       "      <td>14.0</td>\n",
       "      <td>0</td>\n",
       "      <td>0</td>\n",
       "      <td>STON/O2. 3101282</td>\n",
       "      <td>7.9250</td>\n",
       "      <td>NaN</td>\n",
       "      <td>S</td>\n",
       "    </tr>\n",
       "    <tr>\n",
       "      <th>3</th>\n",
       "      <td>4</td>\n",
       "      <td>1</td>\n",
       "      <td>1</td>\n",
       "      <td>Futrelle, Mrs. Jacques Heath (Lily May Peel)</td>\n",
       "      <td>female</td>\n",
       "      <td>27.0</td>\n",
       "      <td>1</td>\n",
       "      <td>0</td>\n",
       "      <td>113803</td>\n",
       "      <td>53.1000</td>\n",
       "      <td>C123</td>\n",
       "      <td>S</td>\n",
       "    </tr>\n",
       "    <tr>\n",
       "      <th>4</th>\n",
       "      <td>5</td>\n",
       "      <td>0</td>\n",
       "      <td>3</td>\n",
       "      <td>Allen, Mr. William Henry</td>\n",
       "      <td>male</td>\n",
       "      <td>63.0</td>\n",
       "      <td>0</td>\n",
       "      <td>0</td>\n",
       "      <td>373450</td>\n",
       "      <td>8.0500</td>\n",
       "      <td>NaN</td>\n",
       "      <td>S</td>\n",
       "    </tr>\n",
       "  </tbody>\n",
       "</table>\n",
       "</div>"
      ],
      "text/plain": [
       "   PassengerId  Survived  Pclass  \\\n",
       "0            1         0       3   \n",
       "1            2         1       1   \n",
       "2            3         1       3   \n",
       "3            4         1       1   \n",
       "4            5         0       3   \n",
       "\n",
       "                                                Name     Sex   Age  SibSp  \\\n",
       "0                            Braund, Mr. Owen Harris    male  36.0      1   \n",
       "1  Cumings, Mrs. John Bradley (Florence Briggs Th...  female  18.0      1   \n",
       "2                             Heikkinen, Miss. Laina  female  14.0      0   \n",
       "3       Futrelle, Mrs. Jacques Heath (Lily May Peel)  female  27.0      1   \n",
       "4                           Allen, Mr. William Henry    male  63.0      0   \n",
       "\n",
       "   Parch            Ticket     Fare Cabin Embarked  \n",
       "0      0         A/5 21171   7.2500   NaN        S  \n",
       "1      0          PC 17599  71.2833   C85        C  \n",
       "2      0  STON/O2. 3101282   7.9250   NaN        S  \n",
       "3      0            113803  53.1000  C123        S  \n",
       "4      0            373450   8.0500   NaN        S  "
      ]
     },
     "execution_count": 2,
     "metadata": {},
     "output_type": "execute_result"
    }
   ],
   "source": [
    "filepath = 'titanic_data.csv'\n",
    "df = pd.read_csv(filepath)\n",
    "df.head()\n",
    "\n"
   ]
  },
  {
   "cell_type": "markdown",
   "metadata": {},
   "source": [
    "**Part A**:\n",
    "Based on the overall population of passengers, report the probability of survival.\n",
    "\n",
    "$$P(Survived=1)$$"
   ]
  },
  {
   "cell_type": "code",
   "execution_count": 3,
   "metadata": {},
   "outputs": [
    {
     "name": "stdout",
     "output_type": "stream",
     "text": [
      "The probability of survival is:  0.39281705948372614\n"
     ]
    }
   ],
   "source": [
    "people_survived = df[\"Survived\"].sum()\n",
    "num_of_people = df[\"PassengerId\"].count()\n",
    "\n",
    "prob = people_survived/num_of_people\n",
    "print(\"The probability of survival is: \", prob)\n"
   ]
  },
  {
   "cell_type": "markdown",
   "metadata": {},
   "source": [
    "**Part B**: \n",
    "Some claim that the final hours aboard the RMS Titanic were marked by \"class warfare\" in which the people with first-class tickets took all the good spots on the lifeboats; others claim that the final hours were characterized by male chivalry, in which the men valiantly gave up their positions in the boats and succumbed bravely to the depths of the Atlantic. \n",
    "\n",
    "Consider the two claims: class warfare, and male chivalry. Suppose that class warfare occurred in the final hours aboard the Titanic.  What patterns might you expect to see in the data?  Suppose that male chivalry was widespread during the final hours instead. What patterns might you then expect to see in the data?  Explain both of these hypothesized patterns in words. Are these two hypotheses mutually exclusive or not?"
   ]
  },
  {
   "cell_type": "markdown",
   "metadata": {},
   "source": [
    "**Answer:**\n",
    "\n",
    "* We wil want to evaluate two things, the probability of survival *given* you are a male, and the probability of survival *given* you are a high-class passenger. Then we can compare this to the overall population average that we calculated in Part A. If the male chivalry and first-class passenger theories are true, we will expect to see a lower probability of survival for males and higher probability of survival for first class passengers.\n"
   ]
  },
  {
   "cell_type": "code",
   "execution_count": 4,
   "metadata": {},
   "outputs": [
    {
     "name": "stdout",
     "output_type": "stream",
     "text": [
      "Probability of surviving as a male is:  0.1975736568457539\n",
      "Probability of surviving as a 1st class passenger:  0.6342592592592593\n"
     ]
    }
   ],
   "source": [
    "#P(Survived | Male)\n",
    "males = df.loc[df[\"Sex\"]== 'male'].count()\n",
    " \n",
    "\n",
    "males_total = 577 #from looking at above counts\n",
    "\n",
    "smales = df.loc[(df[\"Sex\"]== 'male') & (df[\"Survived\"]== 1)].count()\n",
    " \n",
    "\n",
    "survived_males = 114 #from looking at above counts\n",
    "\n",
    "p1 = survived_males/males_total\n",
    "print(\"Probability of surviving as a male is: \", p1)\n",
    "\n",
    "#P(Survived | Firstclass)\n",
    "class1 = df.loc[df[\"Pclass\"]== 1].count()\n",
    "\n",
    "class1ppl = 216 #number of people in first class\n",
    "\n",
    "s_class1 = df.loc[(df[\"Pclass\"]== 1) & (df[\"Survived\"]== 1)].count()\n",
    "\n",
    "s_class1ppl = 137\n",
    "\n",
    "\n",
    "p2 = s_class1ppl/class1ppl\n",
    "print(\"Probability of surviving as a 1st class passenger: \", p2)\n"
   ]
  },
  {
   "cell_type": "markdown",
   "metadata": {},
   "source": [
    "**Part C**: Use Pandas methods to create a clean data set by removing any rows from the DataFrame that are missing values corresponding to **Survived**, **Pclass**, **Age**, or **Sex**. Store the clean data in a DataFrame called dfTitanic. Be sure to show any exploratory work determining if/where there are rows with missing values. _HINT: There should be 714 rows in your cleaned data set._"
   ]
  },
  {
   "cell_type": "code",
   "execution_count": 5,
   "metadata": {},
   "outputs": [
    {
     "data": {
      "text/plain": [
       "(714, 12)"
      ]
     },
     "execution_count": 5,
     "metadata": {},
     "output_type": "execute_result"
    }
   ],
   "source": [
    "#This is the exploratory work that gave me an error and made me google for 3 hours to find the fix :)\n",
    "# df1 = pd.read_csv(filepath)\n",
    "# print(df1.shape)\n",
    "\n",
    "# dropped = df1.dropna(subset=['Pclass']) \n",
    "\n",
    "# dropped = df1.dropna(subset=['Survived']) \n",
    "# dropped = df1.dropna(subset=['Pclass']) \n",
    "# dropped = df1.dropna(subset=['Age'])\n",
    "# dropped =  df1.dropna(subset=['Sex'])\n",
    "\n",
    "# # dropped = df1.dropna()\n",
    "\n",
    "# print(dropped.shape)\n",
    "\n",
    "#dropped.head(30)\n",
    "\n",
    "\n",
    "dfTitanic = df.dropna(subset = ['Survived', 'Pclass', 'Age', 'Sex'])\n",
    "dfTitanic.shape\n",
    "\n"
   ]
  },
  {
   "cell_type": "markdown",
   "metadata": {},
   "source": [
    "**Part D**: Compute the probability of survival according to class, gender, and all combinations of the two variables.  Then, answer the following questions:\n",
    "* **(i)** When reviewing class survival probability, how do the results compare to the base survival probability results from **Part A**?\n",
    "* **(ii)** When reviewing gender survival probability, how do the results compare to the base survival probability results from **Part A**?\n",
    "* **(iii)** Within each passenger class, were men or women more/less/equally likely to survive?\n",
    "* **(iv)**  Did men in first class or women in third class have a higher survival probability?\n"
   ]
  },
  {
   "cell_type": "code",
   "execution_count": 6,
   "metadata": {},
   "outputs": [
    {
     "name": "stdout",
     "output_type": "stream",
     "text": [
      "This is how many men total there were 463\n",
      "This is how many males survived 91\n",
      "Probability of surviving as a male is:  0.19654427645788336\n",
      "Proportion of first class passengers that survived:   0.7380952380952381\n",
      "36 vs  72\n",
      "how many people are in class 1 168\n",
      "Proportion of females that survived as 1st class passengers 0.42857142857142855\n",
      "Proportion of males that survived as 1st class passengers 0.21428571428571427\n",
      "Proportion of females that survived as 2nd class passengers 0.32142857142857145\n",
      "Proportion of males that survived as 2nd class passengers 0.09523809523809523\n",
      "Proportion of females that survived as 3rd class passengers 0.36904761904761907\n",
      "Proportion of males that survived as 3rd class passengers 0.23214285714285715\n"
     ]
    }
   ],
   "source": [
    "#P(Survived | Male) after cleaning up data\n",
    "males_total1 = len(dfTitanic[dfTitanic[\"Sex\"]=='male'])\n",
    "print(\"This is how many men total there were\", males_total1)\n",
    "\n",
    "smales1 = len(dfTitanic.loc[(dfTitanic[\"Sex\"]== 'male') & (dfTitanic[\"Survived\"]== 1)])\n",
    "print(\"This is how many males survived\", smales1)\n",
    "\n",
    "p_1 = smales1/males_total1\n",
    "print(\"Probability of surviving as a male is: \", p_1)\n",
    "\n",
    "#P(Survived | Firstclass)\n",
    "class1pop = len(dfTitanic[dfTitanic[\"Pclass\"]== 1])\n",
    "survivedclass1pop = len(dfTitanic.loc[(dfTitanic[\"Survived\"]== 1) & dfTitanic[\"PassengerId\"]== 1])\n",
    "\n",
    "p_2 = survivedclass1pop/class1pop\n",
    "print(\"Proportion of first class passengers that survived:  \", p_2)\n",
    "\n",
    "#P(Survived as a women in first class) = P(survived and female given 1st class)\n",
    "#fem_sur_c1 = len(dfTitanic.loc[dfTitanic[\"Survived\"]== 1 & dfTitanic[\"Sex\"]== 'female' & dfTitanic[\"Pclass\"]== 1]\n",
    "\n",
    "                \n",
    "fem_sur_c1 = len(dfTitanic.loc[(dfTitanic[\"Sex\"]== 'female') & (dfTitanic['Survived']== 1) &(dfTitanic['Pclass']== 1)])\n",
    "\n",
    "male_sur_c1 = len(dfTitanic.loc[(dfTitanic[\"Sex\"]== 'male') & (dfTitanic[\"Survived\"]== 1) &(dfTitanic[\"Pclass\"]== 1)])\n",
    "print(male_sur_c1, \"vs \", fem_sur_c1)\n",
    "print(\"how many people are in class 1\", class1pop)\n",
    "\n",
    "p_3 = fem_sur_c1/class1pop\n",
    "print(\"Proportion of females that survived as 1st class passengers\", p_3)\n",
    "p1_3 = male_sur_c1/class1pop \n",
    "print(\"Proportion of males that survived as 1st class passengers\", p1_3)\n",
    "\n",
    "\n",
    "male_sur_c2 = len(dfTitanic.loc[(dfTitanic[\"Sex\"]== 'male') & (dfTitanic[\"Survived\"]== 1) &(dfTitanic[\"Pclass\"]== 2)])\n",
    "fem_sur_c2 = len(dfTitanic.loc[(dfTitanic[\"Sex\"]== 'female') & (dfTitanic[\"Survived\"]== 1) &(dfTitanic[\"Pclass\"]== 2)])\n",
    "\n",
    "p_4 = fem_sur_c2/class1pop\n",
    "print(\"Proportion of females that survived as 2nd class passengers\", p_4)\n",
    "p1_4 = male_sur_c2/class1pop\n",
    "print(\"Proportion of males that survived as 2nd class passengers\", p1_4)\n",
    "\n",
    "\n",
    "male_sur_c3 = len(dfTitanic.loc[(dfTitanic[\"Sex\"]== 'male') & (dfTitanic[\"Survived\"]== 1) &(dfTitanic[\"Pclass\"]== 3)])\n",
    "fem_sur_c3 = len(dfTitanic.loc[(dfTitanic[\"Sex\"]== 'female') & (dfTitanic[\"Survived\"]== 1) &(dfTitanic[\"Pclass\"]== 3)])\n",
    "\n",
    "p_5 = fem_sur_c3/class1pop\n",
    "print(\"Proportion of females that survived as 3rd class passengers\", p_5)\n",
    "p1_5 = male_sur_c3/class1pop\n",
    "print(\"Proportion of males that survived as 3rd class passengers\", p1_5)\n",
    "\n"
   ]
  },
  {
   "cell_type": "markdown",
   "metadata": {},
   "source": [
    "**Answer**\n",
    "- 1st class survival rates increase by ~.10 after removing NaN values from the dataset.\n",
    "- The gender survival probability does not change\n",
    "- Within each class, women are more likely to survive\n",
    "- Women 3rd class passengers had a higher survival probablility than 1st class men\n",
    "    - This supports the male chivalry hypothesis"
   ]
  },
  {
   "cell_type": "markdown",
   "metadata": {},
   "source": [
    "**Part E**: One might wonder how a passenger's age is related to the likelihood that they would survive the Titanic disaster. In addition to the \"male chivalry\" argument outlined above, you can perhaps imagine an addendum - \"women and children first!\" - as the cry to ring out across the decks. Or you might imagine the opposite - rather than \"class warfare\", it is simply healthy adults fighting to take lifeboat spots for themselves.\n",
    "\n",
    "To answer this question graphically, plot two density histograms on the same set of axes, showing the distribution of the ages of passengers who survived, and the distribution of the ages of passengers who did not. \n",
    "* Use the bin edges $[0,5,10,\\ldots,70,75,80]$ for both histograms.\n",
    "* To better distinguish between our populations, we will represent survivors with `navy` (as they were eventually rescued by ships) and those who passed away with `sandybrown`.\n",
    "* Plot both histograms on a single set of axes (there should be only one panel in the figure you create), but use Matplotlib/Pandas plotting functionality to make the faces of the histogram boxes somewhat transparent, so both histograms are visible.\n",
    "* Include a legend and label your axes.\n",
    "* Comment on the results. Does your figure suggest that some age ranges are more or less likely to have survived the disaster than other ages? Fully explain your reasoning and use your figure to justify your conclusions.\n",
    "* If you noticed some relationship between age and likelihood of survival, what is one possible explanation?"
   ]
  },
  {
   "cell_type": "code",
   "execution_count": 23,
   "metadata": {},
   "outputs": [
    {
     "data": {
      "text/plain": [
       "Text(0, 0.5, 'Frequency')"
      ]
     },
     "execution_count": 23,
     "metadata": {},
     "output_type": "execute_result"
    },
    {
     "data": {
      "image/png": "[encoded data removed]",
      "text/plain": [
       "<Figure size 1296x360 with 2 Axes>"
      ]
     },
     "metadata": {
      "needs_background": "light"
     },
     "output_type": "display_data"
    }
   ],
   "source": [
    "#two hists, survivors by age and nonsurvivors by age\n",
    "\n",
    "#use df.loc\n",
    "my_bins = range(0,80,5)\n",
    "#Your Code here\n",
    "\n",
    "# Initialize figure \n",
    "fig, axes = plt.subplots(nrows =1, ncols =2, figsize=(18,5))\n",
    "\n",
    "# Plot histogram \n",
    "dfTitanic.loc[dfTitanic[\"Survived\"]== 1].hist(column=\"Age\",ax=axes[0], facecolor=\"navy\", edgecolor=\"white\", bins=my_bins);\n",
    "# Add titles and labels \n",
    "axes[0].set_title(\"Survivors\", fontsize=20)\n",
    "axes[0].set_xlabel(\"Ages\", fontsize=16)\n",
    "axes[0].set_ylabel(\"Frequency\", fontsize=16)\n",
    "\n",
    "# Make grid lighter and set behind data\n",
    "axes[0].grid(alpha=0.25)\n",
    "axes[0].set_axisbelow(True)\n",
    "\n",
    "\n",
    "# Plot histogram \n",
    "dfTitanic.loc[dfTitanic[\"Survived\"]== 0].hist(column=\"Age\", ax=axes[1], facecolor=\"sandybrown\", edgecolor=\"white\", bins=my_bins);\n",
    "axes[1].set_title(\"Tragedies\", fontsize=20)\n",
    "axes[1].set_xlabel(\"Ages\", fontsize=16)\n",
    "axes[1].set_ylabel(\"Frequency\", fontsize=16)\n",
    "\n",
    "\n",
    "#There isn't a clear relationship being shown between the two histograms, it seems like deaths are more concentrated 20-40, but this could be because there were \n",
    "#more people in these age ranges"
   ]
  },
  {
   "cell_type": "markdown",
   "metadata": {},
   "source": [
    "**Part F:** In Part E, we plotted two *density* histograms, showing the distributions of ages of passengers that survived or did not survive the Titanic disaster. Why would it be misleading for us to have plotted these as *frequency* histograms instead?"
   ]
  },
  {
   "cell_type": "markdown",
   "metadata": {},
   "source": [
    "**Answer** It would be misleading to plot as a frequency histogram because it'd wouldn't convey information about the probability/occurance of the events."
   ]
  },
  {
   "cell_type": "markdown",
   "metadata": {},
   "source": [
    "**Part G**: Do the data suggest class warfare, male chivalry, age bias, or some combination of these characteristics in the final hours aboard the Titanic?  Justify your conclusions based on the computations done above, or do any other analysis that you like, but be sure to clearly justify your conclusions."
   ]
  },
  {
   "cell_type": "markdown",
   "metadata": {},
   "source": [
    "**Answer** The data suggests class warfare and male chivalry. We saw earlier that women had greater probabilities of surviving in all classes and first class passengers fared better than the other passengers. In addition, we compared those probabilities to a base probability of the general population i.e. total survival/total population. "
   ]
  },
  {
   "cell_type": "markdown",
   "metadata": {},
   "source": [
    "[Back to top](#top)\n",
    "<a/ id='p2'></a>\n",
    "\n",
    "## (20 pts) Problem 2: Data (Box Plots and Outliers)\n",
    "***\n",
    "\n",
    "NOAA's Physical Sciences division (https://www.esrl.noaa.gov/psd) houses an enormous amount of weather data.  Load `BoulderPrecip.csv` from the course page for the last 120 years of monthly precipitation data from Boulder.  Let's take a look!"
   ]
  },
  {
   "cell_type": "code",
   "execution_count": 24,
   "metadata": {},
   "outputs": [
    {
     "data": {
      "text/html": [
       "<div>\n",
       "<style scoped>\n",
       "    .dataframe tbody tr th:only-of-type {\n",
       "        vertical-align: middle;\n",
       "    }\n",
       "\n",
       "    .dataframe tbody tr th {\n",
       "        vertical-align: top;\n",
       "    }\n",
       "\n",
       "    .dataframe thead th {\n",
       "        text-align: right;\n",
       "    }\n",
       "</style>\n",
       "<table border=\"1\" class=\"dataframe\">\n",
       "  <thead>\n",
       "    <tr style=\"text-align: right;\">\n",
       "      <th></th>\n",
       "      <th>Year</th>\n",
       "      <th>JAN</th>\n",
       "      <th>FEB</th>\n",
       "      <th>MAR</th>\n",
       "      <th>APR</th>\n",
       "      <th>MAY</th>\n",
       "      <th>JUN</th>\n",
       "      <th>JUL</th>\n",
       "      <th>AUG</th>\n",
       "      <th>SEP</th>\n",
       "      <th>OCT</th>\n",
       "      <th>NOV</th>\n",
       "      <th>DEC</th>\n",
       "      <th>YEAR TOTAL</th>\n",
       "    </tr>\n",
       "  </thead>\n",
       "  <tbody>\n",
       "    <tr>\n",
       "      <th>0</th>\n",
       "      <td>1900</td>\n",
       "      <td>0.40</td>\n",
       "      <td>1.06</td>\n",
       "      <td>0.75</td>\n",
       "      <td>9.18</td>\n",
       "      <td>1.84</td>\n",
       "      <td>0.49</td>\n",
       "      <td>0.48</td>\n",
       "      <td>0.22</td>\n",
       "      <td>1.54</td>\n",
       "      <td>0.13</td>\n",
       "      <td>0.19</td>\n",
       "      <td>0.61</td>\n",
       "      <td>16.89</td>\n",
       "    </tr>\n",
       "    <tr>\n",
       "      <th>1</th>\n",
       "      <td>1901</td>\n",
       "      <td>0.53</td>\n",
       "      <td>0.30</td>\n",
       "      <td>1.74</td>\n",
       "      <td>3.51</td>\n",
       "      <td>1.62</td>\n",
       "      <td>1.76</td>\n",
       "      <td>0.46</td>\n",
       "      <td>1.69</td>\n",
       "      <td>0.16</td>\n",
       "      <td>0.65</td>\n",
       "      <td>Tr</td>\n",
       "      <td>1.43</td>\n",
       "      <td>13.85</td>\n",
       "    </tr>\n",
       "    <tr>\n",
       "      <th>2</th>\n",
       "      <td>1902</td>\n",
       "      <td>0.37</td>\n",
       "      <td>0.48</td>\n",
       "      <td>1.48</td>\n",
       "      <td>1.01</td>\n",
       "      <td>2.32</td>\n",
       "      <td>1.46</td>\n",
       "      <td>1.26</td>\n",
       "      <td>0.53</td>\n",
       "      <td>5.46</td>\n",
       "      <td>1.44</td>\n",
       "      <td>1.29</td>\n",
       "      <td>1.34</td>\n",
       "      <td>18.44</td>\n",
       "    </tr>\n",
       "    <tr>\n",
       "      <th>3</th>\n",
       "      <td>1903</td>\n",
       "      <td>0.08</td>\n",
       "      <td>1.52</td>\n",
       "      <td>1.45</td>\n",
       "      <td>2.31</td>\n",
       "      <td>2.02</td>\n",
       "      <td>1.87</td>\n",
       "      <td>0.95</td>\n",
       "      <td>1.46</td>\n",
       "      <td>1.31</td>\n",
       "      <td>3.43</td>\n",
       "      <td>0.15</td>\n",
       "      <td>0.16</td>\n",
       "      <td>16.71</td>\n",
       "    </tr>\n",
       "    <tr>\n",
       "      <th>4</th>\n",
       "      <td>1904</td>\n",
       "      <td>0.09</td>\n",
       "      <td>0.31</td>\n",
       "      <td>2.37</td>\n",
       "      <td>1.45</td>\n",
       "      <td>5.35</td>\n",
       "      <td>2.72</td>\n",
       "      <td>1.05</td>\n",
       "      <td>1.00</td>\n",
       "      <td>1.60</td>\n",
       "      <td>1.06</td>\n",
       "      <td>0.08</td>\n",
       "      <td>0.70</td>\n",
       "      <td>17.78</td>\n",
       "    </tr>\n",
       "  </tbody>\n",
       "</table>\n",
       "</div>"
      ],
      "text/plain": [
       "   Year   JAN   FEB   MAR   APR   MAY   JUN   JUL   AUG   SEP   OCT   NOV  \\\n",
       "0  1900  0.40  1.06  0.75  9.18  1.84  0.49  0.48  0.22  1.54  0.13  0.19   \n",
       "1  1901  0.53  0.30  1.74  3.51  1.62  1.76  0.46  1.69  0.16  0.65    Tr   \n",
       "2  1902  0.37  0.48  1.48  1.01  2.32  1.46  1.26  0.53  5.46  1.44  1.29   \n",
       "3  1903  0.08  1.52  1.45  2.31  2.02  1.87  0.95  1.46  1.31  3.43  0.15   \n",
       "4  1904  0.09  0.31  2.37  1.45  5.35  2.72  1.05  1.00  1.60  1.06  0.08   \n",
       "\n",
       "    DEC  YEAR TOTAL  \n",
       "0  0.61       16.89  \n",
       "1  1.43       13.85  \n",
       "2  1.34       18.44  \n",
       "3  0.16       16.71  \n",
       "4  0.70       17.78  "
      ]
     },
     "execution_count": 24,
     "metadata": {},
     "output_type": "execute_result"
    }
   ],
   "source": [
    "dfPrecip = pd.read_csv('boulder_precip_12021.csv')\n",
    "dfPrecip.head()\n"
   ]
  },
  {
   "cell_type": "markdown",
   "metadata": {},
   "source": [
    "**Part A:** SCRUBBING!  Our data set is going to be tough to use for a few reasons.\n",
    "\n",
    "1) When the amount of precipitation was nonzero but too small to be recorded, this data set recorded `tr`.  Replace these with zeroes.\n",
    "\n",
    "2) 2021 isn't over yet!  We have one row at the bottom that isn't fully complete and blank values are filling the months that haven't happened yet.  This can wreak havoc on some of our methods!  **Drop** the 2021 data entirely.\n",
    "\n",
    "3) You may have some object typing issues relating to columns that contained both \"Tr\"/\"NA\" and numeric values.  Ensure that Python is treating all of your data as numeric! (see `df.dtypes`)"
   ]
  },
  {
   "cell_type": "code",
   "execution_count": 33,
   "metadata": {},
   "outputs": [],
   "source": [
    "#Your code here\n",
    "#1)\n",
    "dfPrecip = dfPrecip.replace(['Tr'],0)\n",
    "dfPrecip = dfPrecip.replace(['tr'],0)\n",
    "\n",
    "\n",
    "#2)\n",
    "dfPrecip = dfPrecip.drop(121)\n",
    "\n",
    "#3)\n",
    "dfPrecip['JAN'] = pd.to_numeric(dfPrecip['JAN'],errors='coerce')\n",
    "dfPrecip['FEB'] = pd.to_numeric(dfPrecip['FEB'],errors='coerce')\n",
    "dfPrecip['MAR'] = pd.to_numeric(dfPrecip['MAR'],errors='coerce')\n",
    "dfPrecip['APR'] = pd.to_numeric(dfPrecip['APR'],errors='coerce')\n",
    "dfPrecip['MAY'] = pd.to_numeric(dfPrecip['MAY'],errors='coerce')\n",
    "dfPrecip['JUN'] = pd.to_numeric(dfPrecip['JUN'],errors='coerce')\n",
    "dfPrecip['JUL'] = pd.to_numeric(dfPrecip['JUL'],errors='coerce')\n",
    "dfPrecip['AUG'] = pd.to_numeric(dfPrecip['AUG'],errors='coerce')\n",
    "dfPrecip['SEP'] = pd.to_numeric(dfPrecip['SEP'],errors='coerce')\n",
    "dfPrecip['OCT'] = pd.to_numeric(dfPrecip['OCT'],errors='coerce')\n",
    "dfPrecip['NOV'] = pd.to_numeric(dfPrecip['NOV'],errors='coerce')\n",
    "dfPrecip['DEC'] = pd.to_numeric(dfPrecip['DEC'],errors='coerce')\n",
    "\n"
   ]
  },
  {
   "cell_type": "markdown",
   "metadata": {},
   "source": [
    "**Part B:** Generate a series of 12 box plots with month as the x axis and precipitation on the y-axis."
   ]
  },
  {
   "cell_type": "code",
   "execution_count": 34,
   "metadata": {},
   "outputs": [
    {
     "data": {
      "text/plain": [
       "<AxesSubplot:>"
      ]
     },
     "execution_count": 34,
     "metadata": {},
     "output_type": "execute_result"
    },
    {
     "data": {
      "image/png": "[encoded data removed]",
      "text/plain": [
       "<Figure size 432x288 with 1 Axes>"
      ]
     },
     "metadata": {
      "needs_background": "light"
     },
     "output_type": "display_data"
    }
   ],
   "source": [
    "dfPrecip.boxplot([\"JAN\",\"FEB\",\"MAR\",\"APR\",\"MAY\",\"JUN\",\"JUL\",\"AUG\",\"SEP\",\"OCT\",\"NOV\",\"DEC\"])"
   ]
  },
  {
   "cell_type": "markdown",
   "metadata": {},
   "source": [
    "\n",
    "**Part C:** Spring is the wet season in Boulder.   But what is Spring?\n",
    "\n",
    "Atmospheric scientists love to group months seasonally, breaking the year into a Winter season including December, January, February; a Spring including March, April, and May; and so forth.\n",
    "\n",
    "The solar year, however, says that Spring runs from near the end of March until near the end of June: let's round at the nearest month and say that it includes the months of April, May and June.\n",
    "\n",
    "Generate a box plot with precipitation on the y-axis and the two possible monthly 'Spring' groupings (March-May versus April-June) as the x-axis."
   ]
  },
  {
   "cell_type": "code",
   "execution_count": null,
   "metadata": {},
   "outputs": [],
   "source": [
    "#Your code here"
   ]
  },
  {
   "cell_type": "markdown",
   "metadata": {},
   "source": [
    "**Part D:** These might look pretty similar!  Highlight and comment on any differences by calculating the mean, standard deviation, and a Tukey five number summary of each classification of Spring.  Is there a reason here to favor one grouping over the other?"
   ]
  },
  {
   "cell_type": "code",
   "execution_count": null,
   "metadata": {},
   "outputs": [],
   "source": [
    "#Code here"
   ]
  },
  {
   "cell_type": "markdown",
   "metadata": {},
   "source": [
    "**Typeset your analysis to part D in this cell or cells**"
   ]
  },
  {
   "cell_type": "markdown",
   "metadata": {},
   "source": [
    "**Part E:** Create a density histogram of the September precipitation.  Classify and describe this histogram, including discussion of any skewness, multimodality, or outliers.  Find the data point associated with September, 2013, and recreate your histogram with that value in a different color or otherwise clearly marked."
   ]
  },
  {
   "cell_type": "code",
   "execution_count": null,
   "metadata": {},
   "outputs": [],
   "source": [
    "# September box plot code here"
   ]
  },
  {
   "cell_type": "markdown",
   "metadata": {},
   "source": [
    "**Typeset your analysis for part E in this cell or cells**"
   ]
  },
  {
   "cell_type": "markdown",
   "metadata": {},
   "source": [
    "**Part F:** That one data point in September 2013 is pretty out there!  Compute the mean and standard deviation of the September precipitation values, then compute them again while excluding the 2013 observation.  How much did each change?\n",
    "\n",
    "If someone were to ask you about the average weather in September, what would you respond?\n",
    "\n"
   ]
  },
  {
   "cell_type": "code",
   "execution_count": null,
   "metadata": {},
   "outputs": [],
   "source": [
    "# September code here"
   ]
  },
  {
   "cell_type": "markdown",
   "metadata": {},
   "source": [
    "**Typeset your analysis for part F in this cell or cells**"
   ]
  },
  {
   "cell_type": "markdown",
   "metadata": {},
   "source": [
    "[Back to top](#top)"
   ]
  }
 ],
 "metadata": {
  "kernelspec": {
   "display_name": "Python 3",
   "language": "python",
   "name": "python3"
  },
  "language_info": {
   "codemirror_mode": {
    "name": "ipython",
    "version": 3
   },
   "file_extension": ".py",
   "mimetype": "text/x-python",
   "name": "python",
   "nbconvert_exporter": "python",
   "pygments_lexer": "ipython3",
   "version": "3.8.5"
  }
 },
 "nbformat": 4,
 "nbformat_minor": 2
}
