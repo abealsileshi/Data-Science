{
 "cells": [
  {
   "cell_type": "markdown",
   "metadata": {},
   "source": [
    "<a id='top'></a>\n",
    "\n",
    "# CSCI 3022: Intro to Data Science - Spring 2021 Practicum 2\n",
    "# By: Abeal Sileshi\n",
    "***\n",
    "\n",
    "\n",
    "**Here are the rules:** \n",
    "\n",
    "1. All work, code and analysis, must be your own. \n",
    "2. You may use your course notes, posted lecture slides, textbooks, in-class notebooks, and homework solutions as resources.  You may also search online for answers to general knowledge questions like the form of a probability distribution function or how to perform a particular operation in Python/Pandas. \n",
    "3. This is meant to be like a coding portion of your midterm exam. So, the instructional team will be a bit less helpful than we typically are with homework. For example, we will not check answers, significantly debug your code, and so on.  But please don't feel like you're totally alone on this: **feel free to ask questions or ask for help**, and we will decide how best to provide that assistance.\n",
    "4. If something is left open-ended, it is because we want to see how you approach the kinds of problems you will encounter in the wild, where it will not always be clear what sort of tests/methods should be applied. Feel free to ask clarifying questions though.\n",
    "5. You may **NOT** post to message boards or other online resources asking for help, except Piazza.\n",
    "6. You may **NOT** copy-paste solutions *from anywhere*.\n",
    "7. You may **NOT** collaborate with classmates or anyone else.\n",
    "8. In short, **your work must be your own**. It really is that simple.\n",
    "\n",
    "Violation of the above rules will result in an immediate academic sanction (*at the very least*, you will receive a 0 on this practicum or an F in the course, depending on severity), and a trip to the Honor Code Council.\n",
    "\n",
    "**By submitting this assignment, you agree to abide by the rules given above.**\n",
    "\n",
    "***\n",
    "\n",
    "**NOTES**: \n",
    "\n",
    "- You may not use late days on the practicums nor can you drop your practicum grades. \n",
    "- If you have a question for us, post it as a **PRIVATE** message on Piazza.  If we decide that the question is appropriate for the entire class, then we will add it to a Practicum clarifications thread.\n",
    "- Do **NOT** load or use any Python packages that are not available in Anaconda 3.6. The practicum is designed to be completed using only the packages in the first given code cell.\n",
    "- Some problems with code may be autograded.  If we provide a function API **do not** change it.  If we do not provide a function API then you're free to structure your code however you like. \n",
    "- Submit only this Jupyter notebook to Canvas.  Do not compress it using tar, rar, zip, etc. \n",
    "- This should go without saying, but... For any question that asks you to calculate something, you **must show all work to receive credit**. Sparse or nonexistent work will receive sparse or nonexistent credit.\n",
    "\n",
    "---\n",
    "**Shortcuts:**  [Problem 1](#p1) | [Problem 2](#p2) | [Bottom](#bot)\n",
    "\n",
    "---"
   ]
  },
  {
   "cell_type": "code",
   "execution_count": 1,
   "metadata": {},
   "outputs": [],
   "source": [
    "##Get them stats in here\n",
    "import numpy as np \n",
    "import pandas as pd \n",
    "from scipy import stats\n",
    "import statsmodels.api as sm\n",
    "import matplotlib.pylab as plt \n",
    "from patsy import dmatrices\n",
    "import seaborn as sns\n",
    "import itertools\n",
    "%matplotlib inline"
   ]
  },
  {
   "cell_type": "markdown",
   "metadata": {},
   "source": [
    "<br>\n",
    "\n",
    "---\n",
    "[Back to top](#top)\n",
    "<a id='p1'></a>\n",
    "\n",
    "## [50 points] Problem 1: What makes a good shuffle?\n",
    "\n",
    "Our goal in this problem is understand something about the statistics of shuffling: what makes a good shuffle?  Can we compare the order of cards in the deck to an original (sorted) order to determine whether or not the deck appears randomized?\n",
    "\n",
    "In all cases in this problem, we can view a deck as having all unique cards: the standard 52-card playing deck could be represented by integer card identifiers $[0, 1, 2, 3, \\dots, 51]$, and a *shuffle* of the deck is a random *permutation* of those 52 indentifiers.\n",
    "\n",
    "In part 1 of this problem, we explore a sample statistic that reduces the order of the cards into a single measurement."
   ]
  },
  {
   "cell_type": "markdown",
   "metadata": {},
   "source": [
    "### Problem 1 Part 1: The Statistic\n",
    "** Part 1 A: Implementing the statistic.**\n",
    "\n",
    "The most common *single* statistic used for tracking the randomness of a shuffle is the count of *rising sequences* in that list's indices.  A rising sequence is a sequence of cards that appear in the same order that they did in the original deck, even if some other cards are in between.  For example, if the deck is represented by integers 0-10, card '1' will be part of the same rising sequence as card '0' as long as '1' occurs after '0' in the shuffled deck.  '2' would be part of the same sequence as long as it is after '1'.\n",
    "\n",
    "A visualization of counting these can be found on page 2 [of this paper](https://statweb.stanford.edu/~cgates/PERSI/papers/bayer92.pdf).  **Look over the images in the paper before proceeding.**\n",
    "\n",
    "\n",
    "\n",
    "Implement the `rising_seqs` function that takes in a list of integers and returns the number of rising sequences of that list.\n",
    "\n",
    "Overview of the function:\n",
    "- Find the indices for the permutation of deck that *would* represent a perfect sort of the deck.   Check `np.argsort` for a quick way to do this.  For example, the deck [3,0,2,1] has sorted permutation of [1,3,2,0], since we find the value 0 in index 1, then the value 1 in index 3, and so forth.\n",
    "- Count the number of times that the indices in this permutation decrease; e.g. the number of times that index $i$ has a value *more* than index $i+1$.  This represents a location where in the **shuffled** deck, a rising sequence would have been broken or ended, requiring us to start a new sequence.  The total count of rising sequences is 1 plus this value.\n",
    "- Return the number of rising sequences.\n",
    "- You may assume the deck's values are all integers and begin at 0, although neither assumption should be necessary.\n",
    "\n"
   ]
  },
  {
   "cell_type": "code",
   "execution_count": 54,
   "metadata": {},
   "outputs": [
    {
     "name": "stdout",
     "output_type": "stream",
     "text": [
      "0\n"
     ]
    }
   ],
   "source": [
    "deck = [0]*52 #deck made here\n",
    "\n",
    "for i in range(52): #build unshuffled deck\n",
    "    deck[i]=i #0 - 52\n",
    "\n",
    "\n",
    "def rising_seqs(deck): \n",
    "    falls = 0 #falls at 0 at initialization\n",
    "\n",
    "    deck=np.argsort(deck) \n",
    "    for j in range(len(deck)-1): \n",
    "        if(deck[j]>deck[j+1]): #checks for any rise in the cards\n",
    "            falls+=1\n",
    "    return falls\n",
    "\n",
    "print(rising_seqs(deck))\n"
   ]
  },
  {
   "cell_type": "markdown",
   "metadata": {},
   "source": [
    "** Part 1 B: Trying out the statistic.**\n",
    "\n",
    "Try out your statistic on a few quick test cases to make sure it's working.\n",
    "\n",
    "Some examples to sanity check your function.\n",
    "- [0,1,2,3,4,5,6,7] has only one rising sequence.\n",
    "- [7,6,5,4,3,2,1,0] has 8 rising sequences: each term is its own.\n",
    "- [3,1,2,0] has 3 rising sequence: [0], [1,2], [3].\n",
    "- [0,2,3,5,1,4,7,6] has the 4 rising sequences of [0,1], [2,3,4], [5,6], and [7].\n",
    "\n"
   ]
  },
  {
   "cell_type": "code",
   "execution_count": 3,
   "metadata": {},
   "outputs": [],
   "source": [
    "test1=rising_seqs(np.array([0, 1, 2, 3, 4, 5, 6, 7]))\n",
    "assert test1 == 1, 'Failed check 1'\n",
    "\n",
    "test2=rising_seqs(np.array([7,6,5,4,3,2,1,0]))\n",
    "#print(test2)\n",
    "assert test2 == 8, 'Failed check 2'\n",
    "\n",
    "test3=rising_seqs(np.array([3,1,2,0]))\n",
    "#print(test3)\n",
    "assert test3 == 3, 'Failed check 3'\n",
    "\n",
    "test4=rising_seqs(np.array([0,2,3,5,1,4,7,6]))\n",
    "# print(test4)\n",
    "assert test4 == 4, 'Failed check 4'"
   ]
  },
  {
   "cell_type": "markdown",
   "metadata": {},
   "source": [
    "** Part 1 C: Bootstrapping.**\n",
    "\n",
    "What represents a well shuffled deck?  Take a 52-card deck (or the integer list $[0,1,2,\\dots ,51]$) and use np.random.shuffle or np.random.permutation to generate 10000 random permutations.  For each, compute and save their counts of rising sequences.\n",
    "\n",
    "Make a histogram of those rising sequences and print out the mean, 2.5\\% percentile and 97.5\\% percentile.\n",
    "\n"
   ]
  },
  {
   "cell_type": "code",
   "execution_count": 57,
   "metadata": {},
   "outputs": [
    {
     "name": "stdout",
     "output_type": "stream",
     "text": [
      "mean:  25.525\n",
      "2.5, 97.5 percentile:  [21. 30.]\n"
     ]
    },
    {
     "data": {
      "text/plain": [
       "(array([  18.,  243.,  434., 2395., 1920., 3286., 1422.,  204.,   73.,\n",
       "           5.]),\n",
       " array([18. , 19.6, 21.2, 22.8, 24.4, 26. , 27.6, 29.2, 30.8, 32.4, 34. ]),\n",
       " <BarContainer object of 10 artists>)"
      ]
     },
     "execution_count": 57,
     "metadata": {},
     "output_type": "execute_result"
    },
    {
     "data": {
      "image/png": "[encoded data removed]",
      "text/plain": [
       "<Figure size 432x288 with 1 Axes>"
      ]
     },
     "metadata": {
      "needs_background": "light"
     },
     "output_type": "display_data"
    }
   ],
   "source": [
    "score = np.arange(10000)  #tracks the number of rises\n",
    "\n",
    "for i in range(10000): #num of trials\n",
    "    deck = np.arange(52) #initializes deck\n",
    "    np.random.shuffle(deck) #then we shuffle the deck\n",
    "    score[i] = rising_seqs(deck) #apply value from previous function\n",
    "  \n",
    "\n",
    "\n",
    "mean = sum(score)/10000\n",
    "print(\"mean: \", mean)\n",
    "x = np.percentile(score, [2.5, 97.5]) #confidence interval\n",
    "print(\"2.5, 97.5 percentile: \", x)\n",
    "plt.hist(score) #\n",
    "\n"
   ]
  },
  {
   "cell_type": "markdown",
   "metadata": {},
   "source": [
    "**Part 1 C: Bootstrapping ANSWER**\n",
    "\n",
    "Most of the count of rises is between 21-30"
   ]
  },
  {
   "cell_type": "markdown",
   "metadata": {},
   "source": [
    "** Part 1 D: The Bootstrapped test.**\n",
    "    \n",
    "We wish to test the null hypothesis \"the deck is well-shuffled\" against the alternative \"the deck is not well-shuffled,\" using the *test statistic* of rising sequences.  In plain English, what is the *rejection rejection* of such a test?  When would we decide that a given ordering is not a good shuffle?  Use a 95% significance, as suggested by the interval in part 1C."
   ]
  },
  {
   "cell_type": "markdown",
   "metadata": {},
   "source": [
    " **Part 1 D ANSWER:**\n",
    "\n",
    " We would decide a given ordering is not a good shuffle when the rising sequences is on the lower end of our confidence interval. In our confidence interval from (21,30) anything less than 25 (subjective number) is not a good shuffle.\n"
   ]
  },
  {
   "cell_type": "markdown",
   "metadata": {},
   "source": [
    "### Problem 1 Part 2: How to Shuffle\n",
    "\n",
    "A \"perfect riffle\" shuffle is a shuffle in which a deck is divided exactly in half, and then a new deck order is formed by alternating one-card-at-a-time from each half.  Depending on whether or not the top or first card of the interleaving came from the top half of the deck or the bottom half of the deck this is called an *out-shuffle* or *in-shuffle*, respectively.\n",
    "\n",
    "** Part 2 A: The out-shuffle.**\n",
    "\n",
    "Write a function that performs a perfect out-shuffle of a deck.  This function should take an ordered list of length $n$ and:\n",
    "\n",
    "- breaks the deck in half, with the \"top\" of the deck being the first $n/2$ elements and the \"bottom\" of the deck being the last $n/2$ elements.\n",
    "- creates a new ordered list generated by interweaving one card from the top pile, *then* one card from the \"bottom\" pile, etc.  The top/first card comes from the \"top\" elements and the bottom/last card comes from the \"bottom\" pile.\n",
    "\n",
    "You may for convenience assume that there are an even number of cards in the deck.\n",
    "\n",
    "(Note and sanity check: a perfect out-shuffle on a deck with an even number of cards will always have the first card of the input ordering remain the first card of the output ordering, and the input last card remain the last card)\n",
    ".\n",
    "In the suggested API:\n",
    " - deck is a numpy array of integers (or floats) from 0 to (n-1) for a deck of length n.  Consider using np.array(range(n)) if you want to initialize a sorted deck.\n",
    " - Return statement is a numpy array of the same form"
   ]
  },
  {
   "cell_type": "code",
   "execution_count": 60,
   "metadata": {},
   "outputs": [
    {
     "name": "stdout",
     "output_type": "stream",
     "text": [
      "[ 0 26  1 27  2 28  3 29  4 30  5 31  6 32  7 33  8 34  9 35 10 36 11 37\n",
      " 12 38 13 39 14 40 15 41 16 42 17 43 18 44 19 45 20 46 21 47 22 48 23 49\n",
      " 24 50 25 51]\n"
     ]
    },
    {
     "data": {
      "text/plain": [
       "array([0, 5, 1, 6, 2, 7, 3, 8, 4, 9])"
      ]
     },
     "execution_count": 60,
     "metadata": {},
     "output_type": "execute_result"
    }
   ],
   "source": [
    "#recommended API for checks:\n",
    "def out_shuffle(deck):\n",
    "    size = len(deck)\n",
    "    half_size = int(size/2)#half of the deck\n",
    "    new_deck = np.arange(size) \n",
    "    \n",
    "    for i in range(half_size):\n",
    "        new_deck[2*i]=deck[i]#top cards\n",
    "        new_deck[2*i+1]=deck[size-half_size+i]#bottom cards\n",
    "    #print(new_deck)\n",
    "    return new_deck"
   ]
  },
  {
   "cell_type": "markdown",
   "metadata": {},
   "source": [
    "** Part 2 B: Counting out-shuffles.**\n",
    "\n",
    "How much are we supposed to shuffle?  Beginning with a sorted deck $[0,1,2,\\dots ,51]$, perform out-shuffles 52 times *in a row*, where the result of one shuffle is used as the input/start for another.  For each resulting state of the deck, do the following:\n",
    "\n",
    "- save the number of rising sequences in the deck\n",
    "- Perform a formal hypothesis test using the bootstrapped rejection region in part a): at 95\\% confidence would we reject the null hypothesis that \"the deck is well-shuffled?.\"\n",
    "- Compute a two-tailed p-value for the number of rising sequences in the deck.  In other words, what proportion of the time in the simulated `np.random.shuffle` shuffles did we observe a more extreme number of rising sequences?\n",
    "\n",
    "Make a plot with \"number of perfect out shuffles\" on the $x$-axis and \"rising sequences\" for the shuffle on the $y$-axis.  Include a visual indicator for when the number of rising sequences was *inside* or *outside* of the rejection region in part 1.\n",
    "\n",
    "Using this plot make a plain English statment answering the following: \"What is the best number of shuffles to approximately randomize a sorted deck using out-shuffles?  Does it end up well randomized?\"  Explain your answer.\n"
   ]
  },
  {
   "cell_type": "code",
   "execution_count": 61,
   "metadata": {},
   "outputs": [
    {
     "data": {
      "text/plain": [
       "[<matplotlib.lines.Line2D at 0x7fb0bc109640>]"
      ]
     },
     "execution_count": 61,
     "metadata": {},
     "output_type": "execute_result"
    },
    {
     "data": {
      "image/png": "[encoded data removed]",
      "text/plain": [
       "<Figure size 432x288 with 1 Axes>"
      ]
     },
     "metadata": {
      "needs_background": "light"
     },
     "output_type": "display_data"
    }
   ],
   "source": [
    "\n",
    "deck=np.arange(52) #make a deck\n",
    "scores=np.arange(52)\n",
    "for i in range(len(deck)):#for loop to shuffle 52 times\n",
    "    deck=out_shuffle(deck)\n",
    "    scores[i]=rising_seqs(deck)#count rising sequence\n",
    "    \n",
    "deck2=np.arange(52)\n",
    "plt.xlabel(\"number of out shuffles\")\n",
    "plt.ylabel(\"rising sequences\")\n",
    "plt.plot(deck2,deck)#compare rising sequence to number of out shuffles"
   ]
  },
  {
   "cell_type": "markdown",
   "metadata": {},
   "source": [
    "**PART 2 B ANSWER**\n",
    "\n",
    "About after 16 shuffles you have a good deck from looking at the graph, however after 4 shuffles, the deck still appears to be quite shuffled from the graph."
   ]
  },
  {
   "cell_type": "markdown",
   "metadata": {},
   "source": [
    "** Part 2 C: In-shuffles.**\n",
    "\n",
    "Repeat parts 2A and 2B for in shuffles.  This means do the following:\n",
    "\n",
    "Write a function that performs a perfect in-shuffle of a deck.  This function should take an ordered list of length $n$ and:\n",
    "\n",
    "- breaks the deck in half, with the \"top\" of the deck being the first $n/2$ elements and the \"bottom\" of the deck being the last $n/2$ elements.\n",
    "- creates a new ordered list generated by interweaving one card from the bottom pile, *then* one card from the \"top\" pile, etc.  The top/first card comes from the \"bottom\" elements and the bottom/last card comes from the \"top\" pile.\n",
    "\n",
    "After this, repeat the plot and hypothesis tests made in part 2B for the in-shuffle.  Again, answer the prompt:  \"What is the best number of shuffles to approximately randomize a sorted deck using in-shuffles?  Does it end up well randomized?\"  Explain your answer.\n",
    "\n",
    "\n"
   ]
  },
  {
   "cell_type": "code",
   "execution_count": 64,
   "metadata": {},
   "outputs": [],
   "source": [
    "#recommended API for checks:\n",
    "def in_shuffle(deck):\n",
    "    x = len(deck)#take length of deck for calculations\n",
    "    y = int(x/2)#take half length of deck for other calculations\n",
    "    new_deck = np.arange(x)#make aranged deck for storing shuffle\n",
    "    #print(new_deck)#too see what we start with\n",
    "    for i in range(y):#FOR LOOP for iterations\n",
    "        new_deck[2*i+1]=deck[x-y+i]#bottom cards\n",
    "        new_deck[2*i]=deck[i]#top cards\n",
    "    #print(new_deck)\n",
    "    return new_deck\n",
    "# in_shuffle(np.array(range(10))) sanity check: should be 5-0-6-1..."
   ]
  },
  {
   "cell_type": "code",
   "execution_count": 65,
   "metadata": {},
   "outputs": [
    {
     "data": {
      "text/plain": [
       "[<matplotlib.lines.Line2D at 0x7fb0bc30a0a0>]"
      ]
     },
     "execution_count": 65,
     "metadata": {},
     "output_type": "execute_result"
    },
    {
     "data": {
      "image/png": "[encoded data removed]",
      "text/plain": [
       "<Figure size 432x288 with 1 Axes>"
      ]
     },
     "metadata": {
      "needs_background": "light"
     },
     "output_type": "display_data"
    }
   ],
   "source": [
    "#need hypothesis test, confidence intervalm pvalue, visual indicator\n",
    "\n",
    "deck=np.arange(52)\n",
    "counts=np.arange(52)\n",
    "for i in range(len(deck)):#for loop to shuffle 52 times\n",
    "    deck=in_shuffle(deck)\n",
    "    counts[i]=rising_seqs(deck)#count rising sequence\n",
    "    \n",
    "deck2=np.arange(52)\n",
    "plt.xlabel(\"number of in shuffles\")\n",
    "plt.ylabel(\"rising sequences\")\n",
    "plt.plot(deck2,deck)#compare rising sequence to number of out shuffles"
   ]
  },
  {
   "cell_type": "markdown",
   "metadata": {},
   "source": [
    "**ANSWER: We've arrived at about the same conclusion**"
   ]
  },
  {
   "cell_type": "markdown",
   "metadata": {},
   "source": [
    "### Problem 1 Part 3: Noisy Shuffling; Extra Credit\n",
    "** Part 3 A: Random shuffles; Extra Credit**\n",
    "\n",
    "**This part of the problem is for extra credit only.  It is not required.** \n",
    "\n",
    "One result of your analysis above should have been that \"perfect\" shuffles aren't great for getting a random deck - we only approximate randomness and eventually find our way back into the original sort. So how do we shuffle better?  Suppose that we divide our deck in half as we prepare to shuffle, but then *instead* of one-by-one interleaving the two piles, we choose a random number of cards from each pile before we move to the other pile.\n",
    "\n",
    "A variety of ways to describe this exist, but let's try one: Poissons.\n",
    "\n",
    "Create a function `rand_in_shuffle(deck, lambda)` that starts with your code for an in-shuffle.  However, instead of generating the shuffled deck by taking 1 card at a time from the bottom deck, then the top deck, and so forth, take \n",
    "$1+r$ cards from each pile, where $r \\sim Poisson(\\lambda)$ is i.i.d. for each instance you select cards form either pile.  Once you run out of cards in one pile, fill in the rest/bottom of the deck with the remaining cards in the other pile.\n",
    "\n",
    "Note that if $\\lambda=0$, this should represent a perfect in-shuffle.  As $\\lambda$ increases (appropriate values will likely be in $(0,2)$), our shuffle will more closely represent how a person actually shuffles.\n",
    "\n",
    "(Implementation hint: you may use the `.pop` function if you convert your deck to a list, but numpy has its own equivalent using `numpy.delete`.)\n",
    "\n",
    "\n"
   ]
  },
  {
   "cell_type": "code",
   "execution_count": 10,
   "metadata": {},
   "outputs": [],
   "source": [
    "#recommended API for checks:\n",
    "def rand_in_shuffle(deck, lam):\n",
    "    return(new_deck)\n",
    "\n",
    "\n",
    "#if lam=0, should be same as a regular in-shuffle\n",
    "# print(rand_in_shuffle(np.array(range(10)), 0))\n",
    "# print(in_shuffle(np.array(range(10))))\n"
   ]
  },
  {
   "cell_type": "markdown",
   "metadata": {},
   "source": [
    "\n",
    "** Part 3 B: Random shuffle scoring; Extra Credit**\n",
    "\n",
    "**This part of the problem is for extra credit only.  It is not required.** \n",
    "\n",
    "Using `rand_in_shuffle(deck, lambda)`, experiment with different $\\lambda$ values ($\\lambda \\in [0,0.1,0.2,0.3,\\dots 2.9,3.0])$ to attempt to answer the following: If we were going to perform *exactly 6* random in-shuffles, what value of $\\lambda$ on average generates the deck that appears to be shuffled the most?  In other words, is there an amount of randomness that appears to be best in actually randomizing the deck?"
   ]
  },
  {
   "cell_type": "code",
   "execution_count": null,
   "metadata": {},
   "outputs": [],
   "source": []
  },
  {
   "cell_type": "markdown",
   "metadata": {},
   "source": [
    "<br>\n",
    "\n",
    "---\n",
    "[Back to top](#top)\n",
    "<a id='p2'></a>\n",
    "\n",
    "## [50 points] Problem 2: Multiple Linear Regression\n",
    "\n",
    "Load the data set in `houses`, with an opening snipper below.  The data includes sale prices of 24 houses from a midwetern town in the 1970's.   You are told that you need to quantify how price can be explained and predicted by the feature of the house.\n",
    "\n",
    "The variables available in the data set are labeled as follows:\n",
    "\n",
    "* sales:    the sales price of the house (in 1000s of dollars)\n",
    "* tax: \t    the local taxes\n",
    "* bath: \tthe number of bathrooms\n",
    "* lot: \t    the lot size (1000s of ft)\n",
    "* size: \tthe living space (1000s of ft)\n",
    "* garage: \tnumber of parking spots in the garage\n",
    "* rooms: \tnumber of rooms\n",
    "* bedrooms: number of bedrooms\n",
    "* age: \t    age in years\n",
    "* fire: \tnumber of fireplaces\n"
   ]
  },
  {
   "cell_type": "code",
   "execution_count": 11,
   "metadata": {
    "scrolled": true
   },
   "outputs": [
    {
     "data": {
      "text/html": [
       "<div>\n",
       "<style scoped>\n",
       "    .dataframe tbody tr th:only-of-type {\n",
       "        vertical-align: middle;\n",
       "    }\n",
       "\n",
       "    .dataframe tbody tr th {\n",
       "        vertical-align: top;\n",
       "    }\n",
       "\n",
       "    .dataframe thead th {\n",
       "        text-align: right;\n",
       "    }\n",
       "</style>\n",
       "<table border=\"1\" class=\"dataframe\">\n",
       "  <thead>\n",
       "    <tr style=\"text-align: right;\">\n",
       "      <th></th>\n",
       "      <th>tax</th>\n",
       "      <th>bath</th>\n",
       "      <th>lot</th>\n",
       "      <th>size</th>\n",
       "      <th>garage</th>\n",
       "      <th>rooms</th>\n",
       "      <th>bedrooms</th>\n",
       "      <th>age</th>\n",
       "      <th>fire</th>\n",
       "      <th>sales</th>\n",
       "    </tr>\n",
       "  </thead>\n",
       "  <tbody>\n",
       "    <tr>\n",
       "      <th>0</th>\n",
       "      <td>4.918</td>\n",
       "      <td>1.0</td>\n",
       "      <td>3.472</td>\n",
       "      <td>0.998</td>\n",
       "      <td>1.0</td>\n",
       "      <td>7</td>\n",
       "      <td>4</td>\n",
       "      <td>42</td>\n",
       "      <td>0</td>\n",
       "      <td>25.9</td>\n",
       "    </tr>\n",
       "    <tr>\n",
       "      <th>1</th>\n",
       "      <td>5.021</td>\n",
       "      <td>1.0</td>\n",
       "      <td>3.531</td>\n",
       "      <td>1.500</td>\n",
       "      <td>2.0</td>\n",
       "      <td>7</td>\n",
       "      <td>4</td>\n",
       "      <td>62</td>\n",
       "      <td>0</td>\n",
       "      <td>29.5</td>\n",
       "    </tr>\n",
       "    <tr>\n",
       "      <th>2</th>\n",
       "      <td>4.543</td>\n",
       "      <td>1.0</td>\n",
       "      <td>2.275</td>\n",
       "      <td>1.175</td>\n",
       "      <td>1.0</td>\n",
       "      <td>6</td>\n",
       "      <td>3</td>\n",
       "      <td>40</td>\n",
       "      <td>0</td>\n",
       "      <td>27.9</td>\n",
       "    </tr>\n",
       "    <tr>\n",
       "      <th>3</th>\n",
       "      <td>4.557</td>\n",
       "      <td>1.0</td>\n",
       "      <td>4.050</td>\n",
       "      <td>1.232</td>\n",
       "      <td>1.0</td>\n",
       "      <td>6</td>\n",
       "      <td>3</td>\n",
       "      <td>54</td>\n",
       "      <td>0</td>\n",
       "      <td>25.9</td>\n",
       "    </tr>\n",
       "    <tr>\n",
       "      <th>4</th>\n",
       "      <td>5.060</td>\n",
       "      <td>1.0</td>\n",
       "      <td>4.455</td>\n",
       "      <td>1.121</td>\n",
       "      <td>1.0</td>\n",
       "      <td>6</td>\n",
       "      <td>3</td>\n",
       "      <td>42</td>\n",
       "      <td>0</td>\n",
       "      <td>29.9</td>\n",
       "    </tr>\n",
       "  </tbody>\n",
       "</table>\n",
       "</div>"
      ],
      "text/plain": [
       "     tax  bath    lot   size  garage  rooms  bedrooms  age  fire  sales\n",
       "0  4.918   1.0  3.472  0.998     1.0      7         4   42     0   25.9\n",
       "1  5.021   1.0  3.531  1.500     2.0      7         4   62     0   29.5\n",
       "2  4.543   1.0  2.275  1.175     1.0      6         3   40     0   27.9\n",
       "3  4.557   1.0  4.050  1.232     1.0      6         3   54     0   25.9\n",
       "4  5.060   1.0  4.455  1.121     1.0      6         3   42     0   29.9"
      ]
     },
     "execution_count": 11,
     "metadata": {},
     "output_type": "execute_result"
    }
   ],
   "source": [
    "df=pd.read_csv('houses.txt', delimiter = \"\\t\")\n",
    "df.columns=['tax','bath','lot','size','garage','rooms','bedrooms','age','fire','sales']\n",
    "df.head()\n"
   ]
  },
  {
   "cell_type": "markdown",
   "metadata": {},
   "source": [
    "### Problem 2 Part 1: Fit your own model\n",
    "** Part 1 A: Explore**\n",
    "\n",
    "Make pairwise scatter plots of the continuous predictors/covariates, both against each other and against the outcome (expenditures).   Does the relationship between the independent variables and the dependent variables appear to be linear?  Do there appear to be independent variables that are collinear?"
   ]
  },
  {
   "cell_type": "code",
   "execution_count": 12,
   "metadata": {},
   "outputs": [
    {
     "data": {
      "text/plain": [
       "<seaborn.axisgrid.PairGrid at 0x7fb0d3d25b50>"
      ]
     },
     "execution_count": 12,
     "metadata": {},
     "output_type": "execute_result"
    },
    {
     "data": {
      "image/png": "[encoded data removed]",
      "text/plain": [
       "<Figure size 1800x1800 with 110 Axes>"
      ]
     },
     "metadata": {
      "needs_background": "light"
     },
     "output_type": "display_data"
    }
   ],
   "source": [
    "##THIS CELL TAKES A WHILE TO LOAD##\n",
    "sns.pairplot(df)\n"
   ]
  },
  {
   "cell_type": "markdown",
   "metadata": {},
   "source": [
    "**Part 1 A Answer:**\n",
    "\n",
    "Some relationships between tax and the independent variables seem linear from the above plot- such as, age, sales, lot, and size. Size and lot appear to be collinear. This make sense because the two variable capture the size of a property. Size and lot appear to have many other linear relationships with other independent variables. \n",
    "\n",
    "Additionally, bedrooms and rooms seem collinear. "
   ]
  },
  {
   "cell_type": "markdown",
   "metadata": {},
   "source": [
    "**Part 1 B: Make a Model**\n",
    "\n",
    "After removing any reasonably choices for columns from your work in part 1A, fit a model with the remaining columns.  Print its summary table."
   ]
  },
  {
   "cell_type": "markdown",
   "metadata": {},
   "source": [
    "**I will take out rooms and lot because they are collinear with other dependent variables.**"
   ]
  },
  {
   "cell_type": "code",
   "execution_count": 13,
   "metadata": {},
   "outputs": [
    {
     "name": "stdout",
     "output_type": "stream",
     "text": [
      "      tax  bath   size  garage  bedrooms  age  fire  sales\n",
      "0   4.918   1.0  0.998     1.0         4   42     0   25.9\n",
      "1   5.021   1.0  1.500     2.0         4   62     0   29.5\n",
      "2   4.543   1.0  1.175     1.0         3   40     0   27.9\n",
      "3   4.557   1.0  1.232     1.0         3   54     0   25.9\n",
      "4   5.060   1.0  1.121     1.0         3   42     0   29.9\n",
      "5   3.891   1.0  0.988     1.0         3   56     0   29.9\n",
      "6   5.898   1.0  1.240     1.0         3   51     1   30.9\n",
      "7   5.604   1.0  1.501     0.0         3   32     0   28.9\n",
      "8   5.828   1.0  1.225     2.0         3   32     0   35.9\n",
      "9   5.300   1.0  1.552     1.0         3   30     0   31.5\n",
      "10  6.271   1.0  0.975     1.0         2   30     0   31.0\n",
      "11  5.959   1.0  1.121     2.0         3   32     0   30.9\n",
      "12  5.050   1.0  1.020     0.0         2   46     1   30.0\n",
      "13  8.246   1.5  1.664     2.0         4   50     0   36.9\n",
      "14  6.697   1.5  1.488     1.5         3   22     1   41.9\n",
      "15  7.784   1.5  1.376     1.0         3   17     0   40.5\n",
      "16  9.038   1.0  1.500     1.5         3   23     0   43.9\n",
      "17  5.989   1.0  1.256     2.0         3   40     1   37.9\n",
      "18  7.542   1.5  1.690     1.0         3   22     0   37.9\n",
      "19  8.795   1.5  1.820     2.0         4   50     1   44.5\n",
      "20  6.083   1.5  1.652     1.0         3   44     0   37.9\n",
      "21  8.361   1.5  1.777     2.0         4   48     1   38.9\n",
      "22  8.140   1.0  1.504     2.0         3    3     0   36.9\n",
      "23  9.142   1.5  1.831     1.5         4   31     0   45.8\n"
     ]
    }
   ],
   "source": [
    "df2 = df\n",
    "\n",
    "# df2 = df.iloc[[\"tax\",\"bath\",\"size\",\"garage\",\"bedrooms\",\"age\",\"fire\",\"sales\"]]\n",
    "\n",
    "df2.pop(\"lot\")\n",
    "df2.pop(\"rooms\")\n",
    "\n",
    "print(df2)"
   ]
  },
  {
   "cell_type": "code",
   "execution_count": 14,
   "metadata": {},
   "outputs": [
    {
     "name": "stdout",
     "output_type": "stream",
     "text": [
      "                            OLS Regression Results                            \n",
      "==============================================================================\n",
      "Dep. Variable:                    tax   R-squared:                       0.824\n",
      "Model:                            OLS   Adj. R-squared:                  0.746\n",
      "Method:                 Least Squares   F-statistic:                     10.67\n",
      "Date:                Tue, 04 May 2021   Prob (F-statistic):           5.44e-05\n",
      "Time:                        09:35:10   Log-Likelihood:                -23.732\n",
      "No. Observations:                  24   AIC:                             63.46\n",
      "Df Residuals:                      16   BIC:                             72.89\n",
      "Df Model:                           7                                         \n",
      "Covariance Type:            nonrobust                                         \n",
      "==============================================================================\n",
      "                 coef    std err          t      P>|t|      [0.025      0.975]\n",
      "------------------------------------------------------------------------------\n",
      "const         -0.9398      1.562     -0.602      0.556      -4.251       2.371\n",
      "bath          -0.0065      1.189     -0.005      0.996      -2.526       2.513\n",
      "size           1.0736      1.117      0.961      0.351      -1.295       3.442\n",
      "garage         0.0873      0.392      0.222      0.827      -0.745       0.919\n",
      "bedrooms       0.4076      0.505      0.808      0.431      -0.662       1.478\n",
      "age           -0.0253      0.017     -1.492      0.155      -0.061       0.011\n",
      "fire           0.0579      0.445      0.130      0.898      -0.886       1.002\n",
      "sales          0.1558      0.060      2.611      0.019       0.029       0.282\n",
      "==============================================================================\n",
      "Omnibus:                        0.461   Durbin-Watson:                   2.457\n",
      "Prob(Omnibus):                  0.794   Jarque-Bera (JB):                0.571\n",
      "Skew:                          -0.107   Prob(JB):                        0.752\n",
      "Kurtosis:                       2.275   Cond. No.                         521.\n",
      "==============================================================================\n",
      "\n",
      "Notes:\n",
      "[1] Standard Errors assume that the covariance matrix of the errors is correctly specified.\n"
     ]
    }
   ],
   "source": [
    "# Collect the features in a 2D array \n",
    "X = df2[[\"bath\", \"size\", \"garage\",\"bedrooms\", \"age\", \"fire\", \"sales\"]]\n",
    "\n",
    "# Add a constant to the array for the intecept \n",
    "X = sm.add_constant(X)\n",
    "\n",
    "# Collect the response data in an array \n",
    "y = df2[\"sales\"]\n",
    "\n",
    "# Fit the ordinary least-squares (OLS) model \n",
    "model = sm.OLS(y, X).fit()\n",
    "\n",
    "print(model.summary())"
   ]
  },
  {
   "cell_type": "markdown",
   "metadata": {},
   "source": [
    "** Part 1 C: Validate your Model**\n",
    "\n",
    "\n",
    "Perform a thorough discussion of the underlying regression assumptions of your model in part 1B.  You should plot a predictor vs. residuals plot for each column and histogram OR qqplot of the overall residuals.  Make sure to also check for non-linearity."
   ]
  },
  {
   "cell_type": "code",
   "execution_count": 15,
   "metadata": {},
   "outputs": [
    {
     "data": {
      "text/plain": [
       "<matplotlib.collections.PathCollection at 0x7fb0d9c62b50>"
      ]
     },
     "execution_count": 15,
     "metadata": {},
     "output_type": "execute_result"
    },
    {
     "data": {
      "image/png": "[encoded data removed]",
      "text/plain": [
       "<Figure size 432x288 with 1 Axes>"
      ]
     },
     "metadata": {
      "needs_background": "light"
     },
     "output_type": "display_data"
    }
   ],
   "source": [
    "plt.scatter(df2['tax'], model.resid)\n",
    "\n"
   ]
  },
  {
   "cell_type": "markdown",
   "metadata": {},
   "source": [
    "** Part 1 C: Tune your Model**\n",
    "\n",
    "\n",
    "Based on your work in parts 1B and 1C, **iterate** on your model.  Remove terms or add higher-order polynomials one at a time unless you are satisfied that your model captures the data as well as possible.  Each time you add or subtract a term from your model, you should repeat the steps in parts B and C: a summary table an exploration of assumptions."
   ]
  },
  {
   "cell_type": "code",
   "execution_count": 16,
   "metadata": {},
   "outputs": [
    {
     "name": "stdout",
     "output_type": "stream",
     "text": [
      "               tax      bath      size    garage      bedrooms       age  \\\n",
      "tax       1.000000  0.651267  0.734274  0.458556  3.671126e-01 -0.437101   \n",
      "bath      0.651267  1.000000  0.728592  0.224022  4.264014e-01 -0.100748   \n",
      "size      0.734274  0.728592  1.000000  0.358884  5.743353e-01 -0.139087   \n",
      "garage    0.458556  0.224022  0.358884  1.000000  5.412988e-01 -0.020169   \n",
      "bedrooms  0.367113  0.426401  0.574335  0.541299  1.000000e+00  0.313511   \n",
      "age      -0.437101 -0.100748 -0.139087 -0.020169  3.135114e-01  1.000000   \n",
      "fire      0.146683  0.204124  0.106561  0.101618 -5.797951e-17  0.225780   \n",
      "sales     0.873912  0.709777  0.707766  0.461468  2.815200e-01 -0.397403   \n",
      "\n",
      "                  fire     sales  \n",
      "tax       1.466825e-01  0.873912  \n",
      "bath      2.041241e-01  0.709777  \n",
      "size      1.065612e-01  0.707766  \n",
      "garage    1.016185e-01  0.461468  \n",
      "bedrooms -5.797951e-17  0.281520  \n",
      "age       2.257796e-01 -0.397403  \n",
      "fire      1.000000e+00  0.266878  \n",
      "sales     2.668783e-01  1.000000  \n",
      "      tax   size  garage  bedrooms  age  fire  sales\n",
      "0   4.918  0.998     1.0         4   42     0   25.9\n",
      "1   5.021  1.500     2.0         4   62     0   29.5\n",
      "2   4.543  1.175     1.0         3   40     0   27.9\n",
      "3   4.557  1.232     1.0         3   54     0   25.9\n",
      "4   5.060  1.121     1.0         3   42     0   29.9\n",
      "5   3.891  0.988     1.0         3   56     0   29.9\n",
      "6   5.898  1.240     1.0         3   51     1   30.9\n",
      "7   5.604  1.501     0.0         3   32     0   28.9\n",
      "8   5.828  1.225     2.0         3   32     0   35.9\n",
      "9   5.300  1.552     1.0         3   30     0   31.5\n",
      "10  6.271  0.975     1.0         2   30     0   31.0\n",
      "11  5.959  1.121     2.0         3   32     0   30.9\n",
      "12  5.050  1.020     0.0         2   46     1   30.0\n",
      "13  8.246  1.664     2.0         4   50     0   36.9\n",
      "14  6.697  1.488     1.5         3   22     1   41.9\n",
      "15  7.784  1.376     1.0         3   17     0   40.5\n",
      "16  9.038  1.500     1.5         3   23     0   43.9\n",
      "17  5.989  1.256     2.0         3   40     1   37.9\n",
      "18  7.542  1.690     1.0         3   22     0   37.9\n",
      "19  8.795  1.820     2.0         4   50     1   44.5\n",
      "20  6.083  1.652     1.0         3   44     0   37.9\n",
      "21  8.361  1.777     2.0         4   48     1   38.9\n",
      "22  8.140  1.504     2.0         3    3     0   36.9\n",
      "23  9.142  1.831     1.5         4   31     0   45.8\n"
     ]
    }
   ],
   "source": [
    "#now I double-check my correlation values to see \n",
    "print(df2.corr())\n",
    "\n",
    "#I will drop bathrooms because it seems very correlated with other variables\n",
    "df2.pop(\"bath\")\n",
    "\n",
    "print(df2)\n"
   ]
  },
  {
   "cell_type": "code",
   "execution_count": 36,
   "metadata": {},
   "outputs": [
    {
     "name": "stdout",
     "output_type": "stream",
     "text": [
      "                            OLS Regression Results                            \n",
      "==============================================================================\n",
      "Dep. Variable:                  sales   R-squared:                       0.819\n",
      "Model:                            OLS   Adj. R-squared:                  0.755\n",
      "Method:                 Least Squares   F-statistic:                     12.82\n",
      "Date:                Tue, 04 May 2021   Prob (F-statistic):           1.71e-05\n",
      "Time:                        10:24:25   Log-Likelihood:                -56.083\n",
      "No. Observations:                  24   AIC:                             126.2\n",
      "Df Residuals:                      17   BIC:                             134.4\n",
      "Df Model:                           6                                         \n",
      "Covariance Type:            nonrobust                                         \n",
      "==============================================================================\n",
      "                 coef    std err          t      P>|t|      [0.025      0.975]\n",
      "------------------------------------------------------------------------------\n",
      "const         15.6919      4.382      3.581      0.002       6.446      24.938\n",
      "tax            2.3061      0.748      3.085      0.007       0.729       3.883\n",
      "size           5.8574      3.887      1.507      0.150      -2.343      14.058\n",
      "garage         1.5260      1.339      1.140      0.270      -1.298       4.350\n",
      "bedrooms      -1.6465      1.845     -0.892      0.385      -5.539       2.246\n",
      "age           -0.0331      0.066     -0.498      0.625      -0.173       0.107\n",
      "fire           2.0534      1.588      1.293      0.213      -1.297       5.404\n",
      "==============================================================================\n",
      "Omnibus:                        3.182   Durbin-Watson:                   1.946\n",
      "Prob(Omnibus):                  0.204   Jarque-Bera (JB):                1.463\n",
      "Skew:                           0.214   Prob(JB):                        0.481\n",
      "Kurtosis:                       1.869   Cond. No.                         297.\n",
      "==============================================================================\n",
      "\n",
      "Notes:\n",
      "[1] Standard Errors assume that the covariance matrix of the errors is correctly specified.\n"
     ]
    }
   ],
   "source": [
    "# Collect the features in a 2D array \n",
    "X = df2[[\"tax\", \"size\", \"garage\",\"bedrooms\", \"age\", \"fire\"]]\n",
    "\n",
    "# Add a constant to the array for the intecept \n",
    "X = sm.add_constant(X)\n",
    "\n",
    "# Collect the response data in an array \n",
    "y = df2[\"sales\"]\n",
    "\n",
    "# Fit the ordinary least-squares (OLS) model \n",
    "model = sm.OLS(y, X).fit()\n",
    "\n",
    "print(model.summary())"
   ]
  },
  {
   "cell_type": "code",
   "execution_count": 37,
   "metadata": {},
   "outputs": [
    {
     "data": {
      "text/plain": [
       "<matplotlib.collections.PathCollection at 0x7fb0da36fac0>"
      ]
     },
     "execution_count": 37,
     "metadata": {},
     "output_type": "execute_result"
    },
    {
     "data": {
      "image/png": "[encoded data removed]",
      "text/plain": [
       "<Figure size 432x288 with 1 Axes>"
      ]
     },
     "metadata": {
      "needs_background": "light"
     },
     "output_type": "display_data"
    }
   ],
   "source": [
    "plt.scatter(df2['sales'], model.resid)"
   ]
  },
  {
   "cell_type": "markdown",
   "metadata": {},
   "source": [
    "** Part 1 E: Explain your Model**\n",
    "\n",
    "**Justify** your choices: there are a lot of ways to choose a \"best\" model: we've mentioned e.g. only including significant predictors versus F-tests versus optimizing R-squared.  Explain what terms you chose and why they were appropriate! "
   ]
  },
  {
   "cell_type": "markdown",
   "metadata": {},
   "source": [
    "**Part 1 E ANSWER: Explain your Model**\n",
    "\n",
    "I chose removing variables (I removed rooms, bath, and lot) in hopes that I would eliminate any kind of multicollinearity and thus the p-values of the estimates would change. However, it seems like dropping variables is not of very much use. The tax variable is significant, which tells us tax is associated with an increase in sales- but this does not necessarily infer a causal relationship."
   ]
  },
  {
   "cell_type": "markdown",
   "metadata": {},
   "source": [
    "### Problem 2 Part 2: Let your Computer do it\n",
    "\n",
    "There are many methods to automate the analysis we did in part 1 of this problem.  These methods are never going to be as good as using your own eyes, but your computer is pretty powerful! \n",
    "\n",
    "Use `itertools.combinations` to perform a linear model (with no higher-order terms) on **every possible subset** of the 9 predictor variables to explain `sales`.  Report the one with the highest adjusted R-squared."
   ]
  },
  {
   "cell_type": "code",
   "execution_count": 42,
   "metadata": {},
   "outputs": [
    {
     "name": "stdout",
     "output_type": "stream",
     "text": [
      "tax is the IV\n",
      "                                 OLS Regression Results                                \n",
      "=======================================================================================\n",
      "Dep. Variable:                  sales   R-squared (uncentered):                   0.985\n",
      "Model:                            OLS   Adj. R-squared (uncentered):              0.985\n",
      "Method:                 Least Squares   F-statistic:                              1550.\n",
      "Date:                Tue, 04 May 2021   Prob (F-statistic):                    1.31e-22\n",
      "Time:                        10:29:01   Log-Likelihood:                         -68.764\n",
      "No. Observations:                  24   AIC:                                      139.5\n",
      "Df Residuals:                      23   BIC:                                      140.7\n",
      "Df Model:                           1                                                  \n",
      "Covariance Type:            nonrobust                                                  \n",
      "==============================================================================\n",
      "                 coef    std err          t      P>|t|      [0.025      0.975]\n",
      "------------------------------------------------------------------------------\n",
      "tax            5.2915      0.134     39.373      0.000       5.013       5.570\n",
      "==============================================================================\n",
      "Omnibus:                        0.658   Durbin-Watson:                   2.160\n",
      "Prob(Omnibus):                  0.720   Jarque-Bera (JB):                0.654\n",
      "Skew:                           0.052   Prob(JB):                        0.721\n",
      "Kurtosis:                       2.198   Cond. No.                         1.00\n",
      "==============================================================================\n",
      "\n",
      "Notes:\n",
      "[1] R² is computed without centering (uncentered) since the model does not contain a constant.\n",
      "[2] Standard Errors assume that the covariance matrix of the errors is correctly specified.\n",
      "tax is the IV\n",
      "                                 OLS Regression Results                                \n",
      "=======================================================================================\n",
      "Dep. Variable:                  sales   R-squared (uncentered):                   0.985\n",
      "Model:                            OLS   Adj. R-squared (uncentered):              0.985\n",
      "Method:                 Least Squares   F-statistic:                              1550.\n",
      "Date:                Tue, 04 May 2021   Prob (F-statistic):                    1.31e-22\n",
      "Time:                        10:29:01   Log-Likelihood:                         -68.764\n",
      "No. Observations:                  24   AIC:                                      139.5\n",
      "Df Residuals:                      23   BIC:                                      140.7\n",
      "Df Model:                           1                                                  \n",
      "Covariance Type:            nonrobust                                                  \n",
      "==============================================================================\n",
      "                 coef    std err          t      P>|t|      [0.025      0.975]\n",
      "------------------------------------------------------------------------------\n",
      "tax            5.2915      0.134     39.373      0.000       5.013       5.570\n",
      "==============================================================================\n",
      "Omnibus:                        0.658   Durbin-Watson:                   2.160\n",
      "Prob(Omnibus):                  0.720   Jarque-Bera (JB):                0.654\n",
      "Skew:                           0.052   Prob(JB):                        0.721\n",
      "Kurtosis:                       2.198   Cond. No.                         1.00\n",
      "==============================================================================\n",
      "\n",
      "Notes:\n",
      "[1] R² is computed without centering (uncentered) since the model does not contain a constant.\n",
      "[2] Standard Errors assume that the covariance matrix of the errors is correctly specified.\n",
      "tax is the IV\n",
      "                                 OLS Regression Results                                \n",
      "=======================================================================================\n",
      "Dep. Variable:                  sales   R-squared (uncentered):                   0.985\n",
      "Model:                            OLS   Adj. R-squared (uncentered):              0.985\n",
      "Method:                 Least Squares   F-statistic:                              1550.\n",
      "Date:                Tue, 04 May 2021   Prob (F-statistic):                    1.31e-22\n",
      "Time:                        10:29:01   Log-Likelihood:                         -68.764\n",
      "No. Observations:                  24   AIC:                                      139.5\n",
      "Df Residuals:                      23   BIC:                                      140.7\n",
      "Df Model:                           1                                                  \n",
      "Covariance Type:            nonrobust                                                  \n",
      "==============================================================================\n",
      "                 coef    std err          t      P>|t|      [0.025      0.975]\n",
      "------------------------------------------------------------------------------\n",
      "tax            5.2915      0.134     39.373      0.000       5.013       5.570\n",
      "==============================================================================\n",
      "Omnibus:                        0.658   Durbin-Watson:                   2.160\n",
      "Prob(Omnibus):                  0.720   Jarque-Bera (JB):                0.654\n",
      "Skew:                           0.052   Prob(JB):                        0.721\n",
      "Kurtosis:                       2.198   Cond. No.                         1.00\n",
      "==============================================================================\n",
      "\n",
      "Notes:\n",
      "[1] R² is computed without centering (uncentered) since the model does not contain a constant.\n",
      "[2] Standard Errors assume that the covariance matrix of the errors is correctly specified.\n",
      "tax is the IV\n",
      "                                 OLS Regression Results                                \n",
      "=======================================================================================\n",
      "Dep. Variable:                  sales   R-squared (uncentered):                   0.985\n",
      "Model:                            OLS   Adj. R-squared (uncentered):              0.985\n",
      "Method:                 Least Squares   F-statistic:                              1550.\n",
      "Date:                Tue, 04 May 2021   Prob (F-statistic):                    1.31e-22\n",
      "Time:                        10:29:01   Log-Likelihood:                         -68.764\n",
      "No. Observations:                  24   AIC:                                      139.5\n",
      "Df Residuals:                      23   BIC:                                      140.7\n",
      "Df Model:                           1                                                  \n",
      "Covariance Type:            nonrobust                                                  \n",
      "==============================================================================\n",
      "                 coef    std err          t      P>|t|      [0.025      0.975]\n",
      "------------------------------------------------------------------------------\n",
      "tax            5.2915      0.134     39.373      0.000       5.013       5.570\n",
      "==============================================================================\n",
      "Omnibus:                        0.658   Durbin-Watson:                   2.160\n",
      "Prob(Omnibus):                  0.720   Jarque-Bera (JB):                0.654\n",
      "Skew:                           0.052   Prob(JB):                        0.721\n",
      "Kurtosis:                       2.198   Cond. No.                         1.00\n",
      "==============================================================================\n",
      "\n",
      "Notes:\n",
      "[1] R² is computed without centering (uncentered) since the model does not contain a constant.\n",
      "[2] Standard Errors assume that the covariance matrix of the errors is correctly specified.\n",
      "tax is the IV\n",
      "                                 OLS Regression Results                                \n",
      "=======================================================================================\n",
      "Dep. Variable:                  sales   R-squared (uncentered):                   0.985\n",
      "Model:                            OLS   Adj. R-squared (uncentered):              0.985\n",
      "Method:                 Least Squares   F-statistic:                              1550.\n",
      "Date:                Tue, 04 May 2021   Prob (F-statistic):                    1.31e-22\n",
      "Time:                        10:29:01   Log-Likelihood:                         -68.764\n",
      "No. Observations:                  24   AIC:                                      139.5\n",
      "Df Residuals:                      23   BIC:                                      140.7\n",
      "Df Model:                           1                                                  \n",
      "Covariance Type:            nonrobust                                                  \n",
      "==============================================================================\n",
      "                 coef    std err          t      P>|t|      [0.025      0.975]\n",
      "------------------------------------------------------------------------------\n",
      "tax            5.2915      0.134     39.373      0.000       5.013       5.570\n",
      "==============================================================================\n",
      "Omnibus:                        0.658   Durbin-Watson:                   2.160\n",
      "Prob(Omnibus):                  0.720   Jarque-Bera (JB):                0.654\n",
      "Skew:                           0.052   Prob(JB):                        0.721\n",
      "Kurtosis:                       2.198   Cond. No.                         1.00\n",
      "==============================================================================\n",
      "\n",
      "Notes:\n",
      "[1] R² is computed without centering (uncentered) since the model does not contain a constant.\n",
      "[2] Standard Errors assume that the covariance matrix of the errors is correctly specified.\n",
      "tax is the IV\n",
      "                                 OLS Regression Results                                \n",
      "=======================================================================================\n",
      "Dep. Variable:                  sales   R-squared (uncentered):                   0.985\n",
      "Model:                            OLS   Adj. R-squared (uncentered):              0.985\n",
      "Method:                 Least Squares   F-statistic:                              1550.\n",
      "Date:                Tue, 04 May 2021   Prob (F-statistic):                    1.31e-22\n",
      "Time:                        10:29:01   Log-Likelihood:                         -68.764\n",
      "No. Observations:                  24   AIC:                                      139.5\n",
      "Df Residuals:                      23   BIC:                                      140.7\n",
      "Df Model:                           1                                                  \n",
      "Covariance Type:            nonrobust                                                  \n",
      "==============================================================================\n",
      "                 coef    std err          t      P>|t|      [0.025      0.975]\n",
      "------------------------------------------------------------------------------\n",
      "tax            5.2915      0.134     39.373      0.000       5.013       5.570\n",
      "==============================================================================\n",
      "Omnibus:                        0.658   Durbin-Watson:                   2.160\n",
      "Prob(Omnibus):                  0.720   Jarque-Bera (JB):                0.654\n",
      "Skew:                           0.052   Prob(JB):                        0.721\n",
      "Kurtosis:                       2.198   Cond. No.                         1.00\n",
      "==============================================================================\n",
      "\n",
      "Notes:\n",
      "[1] R² is computed without centering (uncentered) since the model does not contain a constant.\n",
      "[2] Standard Errors assume that the covariance matrix of the errors is correctly specified.\n",
      "size is the IV\n",
      "                                 OLS Regression Results                                \n",
      "=======================================================================================\n",
      "Dep. Variable:                  sales   R-squared (uncentered):                   0.981\n",
      "Model:                            OLS   Adj. R-squared (uncentered):              0.980\n",
      "Method:                 Least Squares   F-statistic:                              1169.\n",
      "Date:                Tue, 04 May 2021   Prob (F-statistic):                    3.20e-21\n",
      "Time:                        10:29:01   Log-Likelihood:                         -72.099\n",
      "No. Observations:                  24   AIC:                                      146.2\n",
      "Df Residuals:                      23   BIC:                                      147.4\n",
      "Df Model:                           1                                                  \n",
      "Covariance Type:            nonrobust                                                  \n",
      "==============================================================================\n",
      "                 coef    std err          t      P>|t|      [0.025      0.975]\n",
      "------------------------------------------------------------------------------\n",
      "size          24.6744      0.722     34.183      0.000      23.181      26.168\n",
      "==============================================================================\n",
      "Omnibus:                        4.470   Durbin-Watson:                   2.039\n",
      "Prob(Omnibus):                  0.107   Jarque-Bera (JB):                1.675\n",
      "Skew:                          -0.201   Prob(JB):                        0.433\n",
      "Kurtosis:                       1.770   Cond. No.                         1.00\n",
      "==============================================================================\n",
      "\n",
      "Notes:\n",
      "[1] R² is computed without centering (uncentered) since the model does not contain a constant.\n",
      "[2] Standard Errors assume that the covariance matrix of the errors is correctly specified.\n",
      "size is the IV\n",
      "                                 OLS Regression Results                                \n",
      "=======================================================================================\n",
      "Dep. Variable:                  sales   R-squared (uncentered):                   0.981\n",
      "Model:                            OLS   Adj. R-squared (uncentered):              0.980\n",
      "Method:                 Least Squares   F-statistic:                              1169.\n",
      "Date:                Tue, 04 May 2021   Prob (F-statistic):                    3.20e-21\n",
      "Time:                        10:29:01   Log-Likelihood:                         -72.099\n",
      "No. Observations:                  24   AIC:                                      146.2\n",
      "Df Residuals:                      23   BIC:                                      147.4\n",
      "Df Model:                           1                                                  \n",
      "Covariance Type:            nonrobust                                                  \n",
      "==============================================================================\n",
      "                 coef    std err          t      P>|t|      [0.025      0.975]\n",
      "------------------------------------------------------------------------------\n",
      "size          24.6744      0.722     34.183      0.000      23.181      26.168\n",
      "==============================================================================\n",
      "Omnibus:                        4.470   Durbin-Watson:                   2.039\n",
      "Prob(Omnibus):                  0.107   Jarque-Bera (JB):                1.675\n",
      "Skew:                          -0.201   Prob(JB):                        0.433\n",
      "Kurtosis:                       1.770   Cond. No.                         1.00\n",
      "==============================================================================\n",
      "\n",
      "Notes:\n",
      "[1] R² is computed without centering (uncentered) since the model does not contain a constant.\n",
      "[2] Standard Errors assume that the covariance matrix of the errors is correctly specified.\n",
      "size is the IV\n",
      "                                 OLS Regression Results                                \n",
      "=======================================================================================\n",
      "Dep. Variable:                  sales   R-squared (uncentered):                   0.981\n",
      "Model:                            OLS   Adj. R-squared (uncentered):              0.980\n",
      "Method:                 Least Squares   F-statistic:                              1169.\n",
      "Date:                Tue, 04 May 2021   Prob (F-statistic):                    3.20e-21\n",
      "Time:                        10:29:01   Log-Likelihood:                         -72.099\n",
      "No. Observations:                  24   AIC:                                      146.2\n",
      "Df Residuals:                      23   BIC:                                      147.4\n",
      "Df Model:                           1                                                  \n",
      "Covariance Type:            nonrobust                                                  \n",
      "==============================================================================\n",
      "                 coef    std err          t      P>|t|      [0.025      0.975]\n",
      "------------------------------------------------------------------------------\n",
      "size          24.6744      0.722     34.183      0.000      23.181      26.168\n",
      "==============================================================================\n",
      "Omnibus:                        4.470   Durbin-Watson:                   2.039\n",
      "Prob(Omnibus):                  0.107   Jarque-Bera (JB):                1.675\n",
      "Skew:                          -0.201   Prob(JB):                        0.433\n",
      "Kurtosis:                       1.770   Cond. No.                         1.00\n",
      "==============================================================================\n",
      "\n",
      "Notes:\n",
      "[1] R² is computed without centering (uncentered) since the model does not contain a constant.\n",
      "[2] Standard Errors assume that the covariance matrix of the errors is correctly specified.\n",
      "size is the IV\n",
      "                                 OLS Regression Results                                \n",
      "=======================================================================================\n",
      "Dep. Variable:                  sales   R-squared (uncentered):                   0.981\n",
      "Model:                            OLS   Adj. R-squared (uncentered):              0.980\n",
      "Method:                 Least Squares   F-statistic:                              1169.\n",
      "Date:                Tue, 04 May 2021   Prob (F-statistic):                    3.20e-21\n",
      "Time:                        10:29:01   Log-Likelihood:                         -72.099\n",
      "No. Observations:                  24   AIC:                                      146.2\n",
      "Df Residuals:                      23   BIC:                                      147.4\n",
      "Df Model:                           1                                                  \n",
      "Covariance Type:            nonrobust                                                  \n",
      "==============================================================================\n",
      "                 coef    std err          t      P>|t|      [0.025      0.975]\n",
      "------------------------------------------------------------------------------\n",
      "size          24.6744      0.722     34.183      0.000      23.181      26.168\n",
      "==============================================================================\n",
      "Omnibus:                        4.470   Durbin-Watson:                   2.039\n",
      "Prob(Omnibus):                  0.107   Jarque-Bera (JB):                1.675\n",
      "Skew:                          -0.201   Prob(JB):                        0.433\n",
      "Kurtosis:                       1.770   Cond. No.                         1.00\n",
      "==============================================================================\n",
      "\n",
      "Notes:\n",
      "[1] R² is computed without centering (uncentered) since the model does not contain a constant.\n",
      "[2] Standard Errors assume that the covariance matrix of the errors is correctly specified.\n",
      "size is the IV\n",
      "                                 OLS Regression Results                                \n",
      "=======================================================================================\n",
      "Dep. Variable:                  sales   R-squared (uncentered):                   0.981\n",
      "Model:                            OLS   Adj. R-squared (uncentered):              0.980\n",
      "Method:                 Least Squares   F-statistic:                              1169.\n",
      "Date:                Tue, 04 May 2021   Prob (F-statistic):                    3.20e-21\n",
      "Time:                        10:29:01   Log-Likelihood:                         -72.099\n",
      "No. Observations:                  24   AIC:                                      146.2\n",
      "Df Residuals:                      23   BIC:                                      147.4\n",
      "Df Model:                           1                                                  \n",
      "Covariance Type:            nonrobust                                                  \n",
      "==============================================================================\n",
      "                 coef    std err          t      P>|t|      [0.025      0.975]\n",
      "------------------------------------------------------------------------------\n",
      "size          24.6744      0.722     34.183      0.000      23.181      26.168\n",
      "==============================================================================\n",
      "Omnibus:                        4.470   Durbin-Watson:                   2.039\n",
      "Prob(Omnibus):                  0.107   Jarque-Bera (JB):                1.675\n",
      "Skew:                          -0.201   Prob(JB):                        0.433\n",
      "Kurtosis:                       1.770   Cond. No.                         1.00\n",
      "==============================================================================\n",
      "\n",
      "Notes:\n",
      "[1] R² is computed without centering (uncentered) since the model does not contain a constant.\n",
      "[2] Standard Errors assume that the covariance matrix of the errors is correctly specified.\n",
      "garage is the IV\n",
      "                                 OLS Regression Results                                \n",
      "=======================================================================================\n",
      "Dep. Variable:                  sales   R-squared (uncentered):                   0.866\n",
      "Model:                            OLS   Adj. R-squared (uncentered):              0.860\n",
      "Method:                 Least Squares   F-statistic:                              148.4\n",
      "Date:                Tue, 04 May 2021   Prob (F-statistic):                    1.63e-11\n",
      "Time:                        10:29:01   Log-Likelihood:                         -95.364\n",
      "No. Observations:                  24   AIC:                                      192.7\n",
      "Df Residuals:                      23   BIC:                                      193.9\n",
      "Df Model:                           1                                                  \n",
      "Covariance Type:            nonrobust                                                  \n",
      "==============================================================================\n",
      "                 coef    std err          t      P>|t|      [0.025      0.975]\n",
      "------------------------------------------------------------------------------\n",
      "garage        22.7015      1.863     12.183      0.000      18.847      26.556\n",
      "==============================================================================\n",
      "Omnibus:                        0.199   Durbin-Watson:                   2.442\n",
      "Prob(Omnibus):                  0.905   Jarque-Bera (JB):                0.296\n",
      "Skew:                           0.186   Prob(JB):                        0.862\n",
      "Kurtosis:                       2.603   Cond. No.                         1.00\n",
      "==============================================================================\n",
      "\n",
      "Notes:\n",
      "[1] R² is computed without centering (uncentered) since the model does not contain a constant.\n",
      "[2] Standard Errors assume that the covariance matrix of the errors is correctly specified.\n",
      "garage is the IV\n",
      "                                 OLS Regression Results                                \n",
      "=======================================================================================\n",
      "Dep. Variable:                  sales   R-squared (uncentered):                   0.866\n",
      "Model:                            OLS   Adj. R-squared (uncentered):              0.860\n",
      "Method:                 Least Squares   F-statistic:                              148.4\n",
      "Date:                Tue, 04 May 2021   Prob (F-statistic):                    1.63e-11\n",
      "Time:                        10:29:01   Log-Likelihood:                         -95.364\n",
      "No. Observations:                  24   AIC:                                      192.7\n",
      "Df Residuals:                      23   BIC:                                      193.9\n",
      "Df Model:                           1                                                  \n",
      "Covariance Type:            nonrobust                                                  \n",
      "==============================================================================\n",
      "                 coef    std err          t      P>|t|      [0.025      0.975]\n",
      "------------------------------------------------------------------------------\n",
      "garage        22.7015      1.863     12.183      0.000      18.847      26.556\n",
      "==============================================================================\n",
      "Omnibus:                        0.199   Durbin-Watson:                   2.442\n",
      "Prob(Omnibus):                  0.905   Jarque-Bera (JB):                0.296\n",
      "Skew:                           0.186   Prob(JB):                        0.862\n",
      "Kurtosis:                       2.603   Cond. No.                         1.00\n",
      "==============================================================================\n",
      "\n",
      "Notes:\n",
      "[1] R² is computed without centering (uncentered) since the model does not contain a constant.\n",
      "[2] Standard Errors assume that the covariance matrix of the errors is correctly specified.\n",
      "garage is the IV\n",
      "                                 OLS Regression Results                                \n",
      "=======================================================================================\n",
      "Dep. Variable:                  sales   R-squared (uncentered):                   0.866\n",
      "Model:                            OLS   Adj. R-squared (uncentered):              0.860\n",
      "Method:                 Least Squares   F-statistic:                              148.4\n",
      "Date:                Tue, 04 May 2021   Prob (F-statistic):                    1.63e-11\n",
      "Time:                        10:29:01   Log-Likelihood:                         -95.364\n",
      "No. Observations:                  24   AIC:                                      192.7\n",
      "Df Residuals:                      23   BIC:                                      193.9\n",
      "Df Model:                           1                                                  \n",
      "Covariance Type:            nonrobust                                                  \n",
      "==============================================================================\n",
      "                 coef    std err          t      P>|t|      [0.025      0.975]\n",
      "------------------------------------------------------------------------------\n",
      "garage        22.7015      1.863     12.183      0.000      18.847      26.556\n",
      "==============================================================================\n",
      "Omnibus:                        0.199   Durbin-Watson:                   2.442\n",
      "Prob(Omnibus):                  0.905   Jarque-Bera (JB):                0.296\n",
      "Skew:                           0.186   Prob(JB):                        0.862\n",
      "Kurtosis:                       2.603   Cond. No.                         1.00\n",
      "==============================================================================\n",
      "\n",
      "Notes:\n",
      "[1] R² is computed without centering (uncentered) since the model does not contain a constant.\n",
      "[2] Standard Errors assume that the covariance matrix of the errors is correctly specified.\n",
      "garage is the IV\n",
      "                                 OLS Regression Results                                \n",
      "=======================================================================================\n",
      "Dep. Variable:                  sales   R-squared (uncentered):                   0.866\n",
      "Model:                            OLS   Adj. R-squared (uncentered):              0.860\n",
      "Method:                 Least Squares   F-statistic:                              148.4\n",
      "Date:                Tue, 04 May 2021   Prob (F-statistic):                    1.63e-11\n",
      "Time:                        10:29:01   Log-Likelihood:                         -95.364\n",
      "No. Observations:                  24   AIC:                                      192.7\n",
      "Df Residuals:                      23   BIC:                                      193.9\n",
      "Df Model:                           1                                                  \n",
      "Covariance Type:            nonrobust                                                  \n",
      "==============================================================================\n",
      "                 coef    std err          t      P>|t|      [0.025      0.975]\n",
      "------------------------------------------------------------------------------\n",
      "garage        22.7015      1.863     12.183      0.000      18.847      26.556\n",
      "==============================================================================\n",
      "Omnibus:                        0.199   Durbin-Watson:                   2.442\n",
      "Prob(Omnibus):                  0.905   Jarque-Bera (JB):                0.296\n",
      "Skew:                           0.186   Prob(JB):                        0.862\n",
      "Kurtosis:                       2.603   Cond. No.                         1.00\n",
      "==============================================================================\n",
      "\n",
      "Notes:\n",
      "[1] R² is computed without centering (uncentered) since the model does not contain a constant.\n",
      "[2] Standard Errors assume that the covariance matrix of the errors is correctly specified.\n",
      "bedrooms is the IV\n",
      "                                 OLS Regression Results                                \n",
      "=======================================================================================\n",
      "Dep. Variable:                  sales   R-squared (uncentered):                   0.959\n",
      "Model:                            OLS   Adj. R-squared (uncentered):              0.957\n",
      "Method:                 Least Squares   F-statistic:                              538.0\n",
      "Date:                Tue, 04 May 2021   Prob (F-statistic):                    1.87e-17\n",
      "Time:                        10:29:01   Log-Likelihood:                         -81.138\n",
      "No. Observations:                  24   AIC:                                      164.3\n",
      "Df Residuals:                      23   BIC:                                      165.5\n",
      "Df Model:                           1                                                  \n",
      "Covariance Type:            nonrobust                                                  \n",
      "==============================================================================\n",
      "                 coef    std err          t      P>|t|      [0.025      0.975]\n",
      "------------------------------------------------------------------------------\n",
      "bedrooms      10.7008      0.461     23.195      0.000       9.746      11.655\n",
      "==============================================================================\n",
      "Omnibus:                        2.171   Durbin-Watson:                   1.004\n",
      "Prob(Omnibus):                  0.338   Jarque-Bera (JB):                1.404\n",
      "Skew:                          -0.592   Prob(JB):                        0.496\n",
      "Kurtosis:                       2.980   Cond. No.                         1.00\n",
      "==============================================================================\n",
      "\n",
      "Notes:\n",
      "[1] R² is computed without centering (uncentered) since the model does not contain a constant.\n",
      "[2] Standard Errors assume that the covariance matrix of the errors is correctly specified.\n",
      "bedrooms is the IV\n",
      "                                 OLS Regression Results                                \n",
      "=======================================================================================\n",
      "Dep. Variable:                  sales   R-squared (uncentered):                   0.959\n",
      "Model:                            OLS   Adj. R-squared (uncentered):              0.957\n",
      "Method:                 Least Squares   F-statistic:                              538.0\n",
      "Date:                Tue, 04 May 2021   Prob (F-statistic):                    1.87e-17\n",
      "Time:                        10:29:01   Log-Likelihood:                         -81.138\n",
      "No. Observations:                  24   AIC:                                      164.3\n",
      "Df Residuals:                      23   BIC:                                      165.5\n",
      "Df Model:                           1                                                  \n",
      "Covariance Type:            nonrobust                                                  \n",
      "==============================================================================\n",
      "                 coef    std err          t      P>|t|      [0.025      0.975]\n",
      "------------------------------------------------------------------------------\n",
      "bedrooms      10.7008      0.461     23.195      0.000       9.746      11.655\n",
      "==============================================================================\n",
      "Omnibus:                        2.171   Durbin-Watson:                   1.004\n",
      "Prob(Omnibus):                  0.338   Jarque-Bera (JB):                1.404\n",
      "Skew:                          -0.592   Prob(JB):                        0.496\n",
      "Kurtosis:                       2.980   Cond. No.                         1.00\n",
      "==============================================================================\n",
      "\n",
      "Notes:\n",
      "[1] R² is computed without centering (uncentered) since the model does not contain a constant.\n",
      "[2] Standard Errors assume that the covariance matrix of the errors is correctly specified.\n",
      "bedrooms is the IV\n",
      "                                 OLS Regression Results                                \n",
      "=======================================================================================\n",
      "Dep. Variable:                  sales   R-squared (uncentered):                   0.959\n",
      "Model:                            OLS   Adj. R-squared (uncentered):              0.957\n",
      "Method:                 Least Squares   F-statistic:                              538.0\n",
      "Date:                Tue, 04 May 2021   Prob (F-statistic):                    1.87e-17\n",
      "Time:                        10:29:01   Log-Likelihood:                         -81.138\n",
      "No. Observations:                  24   AIC:                                      164.3\n",
      "Df Residuals:                      23   BIC:                                      165.5\n",
      "Df Model:                           1                                                  \n",
      "Covariance Type:            nonrobust                                                  \n",
      "==============================================================================\n",
      "                 coef    std err          t      P>|t|      [0.025      0.975]\n",
      "------------------------------------------------------------------------------\n",
      "bedrooms      10.7008      0.461     23.195      0.000       9.746      11.655\n",
      "==============================================================================\n",
      "Omnibus:                        2.171   Durbin-Watson:                   1.004\n",
      "Prob(Omnibus):                  0.338   Jarque-Bera (JB):                1.404\n",
      "Skew:                          -0.592   Prob(JB):                        0.496\n",
      "Kurtosis:                       2.980   Cond. No.                         1.00\n",
      "==============================================================================\n",
      "\n",
      "Notes:\n",
      "[1] R² is computed without centering (uncentered) since the model does not contain a constant.\n",
      "[2] Standard Errors assume that the covariance matrix of the errors is correctly specified.\n",
      "age is the IV\n",
      "                                 OLS Regression Results                                \n",
      "=======================================================================================\n",
      "Dep. Variable:                  sales   R-squared (uncentered):                   0.815\n",
      "Model:                            OLS   Adj. R-squared (uncentered):              0.807\n",
      "Method:                 Least Squares   F-statistic:                              101.1\n",
      "Date:                Tue, 04 May 2021   Prob (F-statistic):                    6.90e-10\n",
      "Time:                        10:29:01   Log-Likelihood:                         -99.243\n",
      "No. Observations:                  24   AIC:                                      200.5\n",
      "Df Residuals:                      23   BIC:                                      201.7\n",
      "Df Model:                           1                                                  \n",
      "Covariance Type:            nonrobust                                                  \n",
      "==============================================================================\n",
      "                 coef    std err          t      P>|t|      [0.025      0.975]\n",
      "------------------------------------------------------------------------------\n",
      "age            0.7946      0.079     10.054      0.000       0.631       0.958\n",
      "==============================================================================\n",
      "Omnibus:                        0.834   Durbin-Watson:                   0.766\n",
      "Prob(Omnibus):                  0.659   Jarque-Bera (JB):                0.843\n",
      "Skew:                           0.293   Prob(JB):                        0.656\n",
      "Kurtosis:                       2.294   Cond. No.                         1.00\n",
      "==============================================================================\n",
      "\n",
      "Notes:\n",
      "[1] R² is computed without centering (uncentered) since the model does not contain a constant.\n",
      "[2] Standard Errors assume that the covariance matrix of the errors is correctly specified.\n",
      "age is the IV\n",
      "                                 OLS Regression Results                                \n",
      "=======================================================================================\n",
      "Dep. Variable:                  sales   R-squared (uncentered):                   0.815\n",
      "Model:                            OLS   Adj. R-squared (uncentered):              0.807\n",
      "Method:                 Least Squares   F-statistic:                              101.1\n",
      "Date:                Tue, 04 May 2021   Prob (F-statistic):                    6.90e-10\n",
      "Time:                        10:29:01   Log-Likelihood:                         -99.243\n",
      "No. Observations:                  24   AIC:                                      200.5\n",
      "Df Residuals:                      23   BIC:                                      201.7\n",
      "Df Model:                           1                                                  \n",
      "Covariance Type:            nonrobust                                                  \n",
      "==============================================================================\n",
      "                 coef    std err          t      P>|t|      [0.025      0.975]\n",
      "------------------------------------------------------------------------------\n",
      "age            0.7946      0.079     10.054      0.000       0.631       0.958\n",
      "==============================================================================\n",
      "Omnibus:                        0.834   Durbin-Watson:                   0.766\n",
      "Prob(Omnibus):                  0.659   Jarque-Bera (JB):                0.843\n",
      "Skew:                           0.293   Prob(JB):                        0.656\n",
      "Kurtosis:                       2.294   Cond. No.                         1.00\n",
      "==============================================================================\n",
      "\n",
      "Notes:\n",
      "[1] R² is computed without centering (uncentered) since the model does not contain a constant.\n",
      "[2] Standard Errors assume that the covariance matrix of the errors is correctly specified.\n",
      "fire is the IV\n",
      "                                 OLS Regression Results                                \n",
      "=======================================================================================\n",
      "Dep. Variable:                  sales   R-squared (uncentered):                   0.283\n",
      "Model:                            OLS   Adj. R-squared (uncentered):              0.251\n",
      "Method:                 Least Squares   F-statistic:                              9.063\n",
      "Date:                Tue, 04 May 2021   Prob (F-statistic):                     0.00623\n",
      "Time:                        10:29:01   Log-Likelihood:                         -115.48\n",
      "No. Observations:                  24   AIC:                                      233.0\n",
      "Df Residuals:                      23   BIC:                                      234.1\n",
      "Df Model:                           1                                                  \n",
      "Covariance Type:            nonrobust                                                  \n",
      "==============================================================================\n",
      "                 coef    std err          t      P>|t|      [0.025      0.975]\n",
      "------------------------------------------------------------------------------\n",
      "fire          37.3500     12.407      3.010      0.006      11.685      63.015\n",
      "==============================================================================\n",
      "Omnibus:                        3.986   Durbin-Watson:                   0.766\n",
      "Prob(Omnibus):                  0.136   Jarque-Bera (JB):                3.451\n",
      "Skew:                          -0.892   Prob(JB):                        0.178\n",
      "Kurtosis:                       2.485   Cond. No.                         1.00\n",
      "==============================================================================\n",
      "\n",
      "Notes:\n",
      "[1] R² is computed without centering (uncentered) since the model does not contain a constant.\n",
      "[2] Standard Errors assume that the covariance matrix of the errors is correctly specified.\n"
     ]
    }
   ],
   "source": [
    "#usage: all the combinations of size 2 of the given list.\n",
    "#your task: modify it to include the columns of the data frame, and ALL possible sizes\n",
    "# then fit a model for each and save/find the best adjusted R-squared\n",
    "\n",
    "\n",
    "list(itertools.combinations(df2.columns, 2))\n",
    "col_pairs = list(itertools.combinations(df2.columns, 2))\n",
    "models = []\n",
    "results = []\n",
    "for a,b in col_pairs:\n",
    "    print(a, \"is the IV\")\n",
    "    model = sm.OLS(df2[\"sales\"], df2[a]).fit() #I hard-code \"sales\" here because we are regressing against sales\n",
    "    print(model.summary())\n",
    "    models.append(model)\n",
    "    result = model.fittedvalues\n",
    "    results.append(result)\n",
    "#     models[0].summary()\n",
    "\n",
    "# print(results)"
   ]
  },
  {
   "cell_type": "markdown",
   "metadata": {},
   "source": [
    "**Part 2 Answer**\n",
    "\n",
    "The model with the highest R-value at .985 is a bivariate regression sales = constant + b1*tax."
   ]
  },
  {
   "cell_type": "markdown",
   "metadata": {},
   "source": [
    "Did the resulting model differ from the one you arrived at in part 1?  Why or why not?  Do you prefer yours to the automated process?  (Ideally you do!)"
   ]
  },
  {
   "cell_type": "markdown",
   "metadata": {},
   "source": [
    "**Part 2 Answer**\n",
    "\n",
    "The resulting model did not differ in the sense tax is still very significant at a pval < .001. I prefer my model because it had reasoning behind it and more variables."
   ]
  },
  {
   "cell_type": "markdown",
   "metadata": {},
   "source": [
    "---\n",
    "[Back to top](#top)\n",
    "<a id='bot'></a>"
   ]
  }
 ],
 "metadata": {
  "kernelspec": {
   "display_name": "Python 3",
   "language": "python",
   "name": "python3"
  },
  "language_info": {
   "codemirror_mode": {
    "name": "ipython",
    "version": 3
   },
   "file_extension": ".py",
   "mimetype": "text/x-python",
   "name": "python",
   "nbconvert_exporter": "python",
   "pygments_lexer": "ipython3",
   "version": "3.8.5"
  }
 },
 "nbformat": 4,
 "nbformat_minor": 4
}
