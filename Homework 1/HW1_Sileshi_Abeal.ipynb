{
 "cells": [
  {
   "cell_type": "markdown",
   "metadata": {},
   "source": [
    "<a id='top'></a>\n",
    "\n",
    "# CSCI3022 S21\n",
    "# Homework 1: Measures of Centrality and Dispersion\n",
    "***\n",
    "\n",
    "**Name**: _Abeal__Sileshi_______________________________________________________________\n",
    "\n",
    "***\n",
    "\n",
    "This assignment is due on Canvas by **MIDNIGHT on Monday, February 1**. Your solutions to theoretical questions should be done in Markdown directly below the associated question.  Your solutions to computational questions should include any specified Python code and results as well as written commentary on your conclusions.  Remember that you are encouraged to discuss the problems with your classmates, but **you must write all code and solutions on your own**.\n",
    "\n",
    "**NOTES**: \n",
    "\n",
    "- Any relevant data sets should be available on Canvas. To make life easier on the graders if they need to run your code, do not change the relative path names here. Instead, move the files around on your computer.\n",
    "- If you're not familiar with typesetting math directly into Markdown then by all means, do your work on paper first and then typeset it later.  Here is a [reference guide](https://math.meta.stackexchange.com/questions/5020/mathjax-basic-tutorial-and-quick-reference) linked on Canvas on writing math in Markdown. **All** of your written commentary, justifications and mathematical work should be in Markdown.  I also recommend the [wikibook](https://en.wikibooks.org/wiki/LaTeX) for LaTex.\n",
    "- Because you can technically evaluate notebook cells is a non-linear order, it's a good idea to do **Kernel $\\rightarrow$ Restart & Run All** as a check before submitting your solutions.  That way if we need to run your code you will know that it will work as expected. \n",
    "- It is **bad form** to make your reader interpret numerical output from your code.  If a question asks you to compute some value from the data you should show your code output **AND** write a summary of the results in Markdown directly below your code. \n",
    "- 95 points of this assignment are in problems.  The remaining 5 are for neatness, style, and overall exposition of both code and text.\n",
    "- This probably goes without saying, but... For any question that asks you to calculate something, you **must show all work and justify your answers to receive credit**. Sparse or nonexistent work will receive sparse or nonexistent credit. \n",
    "\n",
    "---\n",
    "**Shortcuts:**  [Problem 1](#p1) | [Problem 2](#p2) | [Problem 3](#p3) |\n",
    "---"
   ]
  },
  {
   "cell_type": "code",
   "execution_count": 1,
   "metadata": {},
   "outputs": [],
   "source": [
    "import pandas as pd\n",
    "import numpy as np\n",
    "import matplotlib.pylab as plt\n",
    "%matplotlib inline"
   ]
  },
  {
   "cell_type": "markdown",
   "metadata": {},
   "source": [
    "[Back to top](#top)\n",
    "\n",
    "<br>\n",
    "\n",
    "<a/ id='p1'></a>\n",
    "\n",
    "### (15 points) Problem 1: Theory and Computation (Means and Medians)\n",
    "***\n",
    "\n",
    "A method to investigate the sensitivity of the sample mean and sample median to extreme outliers and changes in the dataset is to replace one or more elements in a given dataset by a number $y$ and investigate the effect when $y$ changes. To illustrate this, consider the following dataset:\n",
    " \n",
    "$$  12.2 \\quad -5.0 \\quad 1.0 \\quad 3.8 \\quad -4.1 \\quad 5.9 \\quad 1.9 \\quad 9.0 \\quad y$$\n",
    "\n",
    "\n"
   ]
  },
  {
   "cell_type": "markdown",
   "metadata": {},
   "source": [
    "**Part A:** Compute the sample mean and sample median for $y=3.5$. Then compute both quantities again for $y=6$."
   ]
  },
  {
   "cell_type": "code",
   "execution_count": 2,
   "metadata": {},
   "outputs": [
    {
     "name": "stdout",
     "output_type": "stream",
     "text": [
      "3.1333333333333337 is the mean when y is 3.5\n",
      "3.5 is the median when y is 3.5\n",
      "3.4111111111111114 is the mean when y is 6\n",
      "3.8 is the median when y is 6\n"
     ]
    }
   ],
   "source": [
    "array1 = np.array([12.2,-5.0,1.0,3.8,-4.1,5.9,1.9, 9.0, 3.5])\n",
    "array2 = np.array([12.2,-5.0,1.0,3.8,-4.1,5.9,1.9, 9.0, 6])\n",
    "\n",
    "mean1 = np.mean(array1)\n",
    "median1 = np.median(array1)\n",
    "\n",
    "mean2 = np.mean(array2)\n",
    "median2 = np.median(array2)\n",
    "\n",
    "print(mean1, 'is the mean when y is 3.5')\n",
    "print(median1, 'is the median when y is 3.5')\n",
    "print(mean2, 'is the mean when y is 6')\n",
    "print(median2, 'is the median when y is 6')"
   ]
  },
  {
   "cell_type": "markdown",
   "metadata": {},
   "source": [
    "**Part B:** Is there a value for $y$ that would make the mean of the data equal to 6? If so, calculate the value of $y$ that makes the mean equal to 6. If not, clearly explain why not.\n",
    "    \n",
    "Is there a value for $y$ that would make the median of the data equal to 6? If so, calculate the values of $y$ that makes the median equal to 6. If not, clearly explain why not."
   ]
  },
  {
   "cell_type": "markdown",
   "metadata": {},
   "source": [
    "**ANSWER:**\n",
    "The value of y that will make the mean 6 is 29.30. There is not a value of y that will make the median 6 because the median is calculated as a middle number. Thus, we would need more than one number to make 6 the median unless the 6 is very close to the true median"
   ]
  },
  {
   "cell_type": "markdown",
   "metadata": {},
   "source": [
    "**Part C**: Compute the sample variance and the sample standard deviation for the original dataset given in part A, with $y=6$."
   ]
  },
  {
   "cell_type": "code",
   "execution_count": 3,
   "metadata": {},
   "outputs": [
    {
     "name": "stdout",
     "output_type": "stream",
     "text": [
      "6.0 is the mean when y is 29.30\n",
      "3.8 is the median when y is 29.30\n"
     ]
    }
   ],
   "source": [
    "#y will be a large number in order to pull the mean to 6\n",
    "array3 = np.array([12.2,-5.0,1.0,3.8,-4.1,5.9,1.9, 9.0, 29.30])\n",
    "\n",
    "mean3 = np.mean(array3)\n",
    "median3 = np.median(array3)\n",
    "\n",
    "print(mean3, 'is the mean when y is 29.30')\n",
    "print(median3, 'is the median when y is 29.30')\n"
   ]
  },
  {
   "cell_type": "markdown",
   "metadata": {},
   "source": [
    "**Part D**: Compute both the sample mean and median for the following cases: \n",
    "- $y=9$ \n",
    "- $y=50$ \n",
    "- $y=4.36$ \n",
    "- $y \\to \\infty$ \n",
    "- $y \\to -\\infty$"
   ]
  },
  {
   "cell_type": "code",
   "execution_count": 13,
   "metadata": {},
   "outputs": [
    {
     "name": "stdout",
     "output_type": "stream",
     "text": [
      "3.744444444444445 is the mean when y is 9\n",
      "3.8 is the median when y is 9\n",
      "8.3 is the mean when y is 50\n",
      "3.8 is the median when y is 50\n",
      "3.228888888888889 is the mean when y is 4.36\n",
      "3.8 is the median when y is 4.36\n",
      "inf is the mean when y is infinity\n",
      "3.8 is the median when y is infinity\n",
      "-inf is the mean when y is negative infinity\n",
      "1.9 is the median when y is negative infinity\n"
     ]
    }
   ],
   "source": [
    "array4 = np.array([12.2,-5.0,1.0,3.8,-4.1,5.9,1.9, 9.0, 9])\n",
    "\n",
    "mean4 = np.mean(array4)\n",
    "median4 = np.median(array4)\n",
    "\n",
    "print(mean4, 'is the mean when y is 9')\n",
    "print(median4, 'is the median when y is 9')\n",
    "\n",
    "array5 = np.array([12.2,-5.0,1.0,3.8,-4.1,5.9,1.9, 9.0, 50])\n",
    "\n",
    "mean5 = np.mean(array5)\n",
    "median5 = np.median(array5)\n",
    "\n",
    "print(mean5, 'is the mean when y is 50')\n",
    "print(median5, 'is the median when y is 50')\n",
    "\n",
    "array6 = np.array([12.2,-5.0,1.0,3.8,-4.1,5.9,1.9, 9.0, 4.36])\n",
    "\n",
    "mean6 = np.mean(array6)\n",
    "median6 = np.median(array6)\n",
    "\n",
    "print(mean6, 'is the mean when y is 4.36')\n",
    "print(median6, 'is the median when y is 4.36')\n",
    "\n",
    "inf =float('inf')\n",
    "array7 = np.array([12.2,-5.0,1.0,3.8,-4.1,5.9,1.9, 9.0, inf])\n",
    "\n",
    "mean7 = np.mean(array7)\n",
    "median7 = np.median(array7)\n",
    "\n",
    "print(mean7, 'is the mean when y is infinity')\n",
    "print(median7, 'is the median when y is infinity')\n",
    "\n",
    "neginf =float('-inf')\n",
    "array8 = np.array([12.2,-5.0,1.0,3.8,-4.1,5.9,1.9, 9.0, neginf])\n",
    "\n",
    "mean8 = np.mean(array8)\n",
    "median8 = np.median(array8)\n",
    "\n",
    "print(mean8, 'is the mean when y is negative infinity')\n",
    "print(median8, 'is the median when y is negative infinity')\n",
    "\n"
   ]
  },
  {
   "cell_type": "markdown",
   "metadata": {},
   "source": [
    "**Part E**: Think about the previous parts, above, and describe in words or mathematical notation the answers to the following two questions:\n",
    "\n",
    "- By varying $y$, what is the set of all the possible values that the sample mean could take on?\n",
    "- By varying $y$, what is the set of all the possible values that the sample median could take on? Specifically, for what sets of $y$ values does the median take on its different possible values?"
   ]
  },
  {
   "cell_type": "markdown",
   "metadata": {},
   "source": [
    "**PART E ANSWER** \n",
    "\n",
    "As $y$ varies, the sample mean can take on all values. i.e., $(-\\infty, \\infty)$. However, the sample median takes on a few possible values, $3.8$ if $y>3.8$, 1.9 if $y < 1.9$ and $y$ if $y$ is $(1.9,3.8)$**"
   ]
  },
  {
   "cell_type": "markdown",
   "metadata": {},
   "source": [
    "**Part F**: Describe in words or mathematical notation, what happens to the sample standard deviation when $y$ is varied in the following ways: \n",
    " \n",
    "- $y \\to \\infty$ \n",
    "- $y \\to \\bar{x}$"
   ]
  },
  {
   "cell_type": "markdown",
   "metadata": {},
   "source": [
    "**Part F ANSWER:**\n",
    "As y increases to infinity the standard deviation gets larger and larger. And as y tends towards the mean the standard deviation gets smaller and smaller.\n"
   ]
  },
  {
   "cell_type": "markdown",
   "metadata": {},
   "source": [
    "[Back to top](#top)\n",
    "<a/ id='p2'></a>\n",
    "\n",
    "## (15 pts) Problem 2: Theory and Computation (Scaling)\n",
    "***\n",
    "Consider the following 3 data sets:\n",
    "\n",
    "`A=[0,1,2,3,4,5,6,7,8,9,10,11,12]`\n",
    "\n",
    "`B=[0,0,0,12,7,18,47,25,0,13,0,35]`\n",
    "\n",
    "`C` is the random data set generated by using `np.random.exponential(scale=43, size=1000)`\n",
    "\n",
    "For each data set, perform the following computations in parts A, B, and C:\n",
    "\n",
    "**Part A:** Compute and print the mean and standard deviation of the data set."
   ]
  },
  {
   "cell_type": "code",
   "execution_count": 15,
   "metadata": {},
   "outputs": [
    {
     "name": "stdout",
     "output_type": "stream",
     "text": [
      "6.0\n",
      "3.8944404818493075\n",
      "13.083333333333334\n",
      "15.64061341120571\n",
      "42.27255453218403\n",
      "42.29114870026259\n"
     ]
    }
   ],
   "source": [
    "A = ([0,1,2,3,4,5,6,7,8,9,10,11,12])\n",
    "B = ([0,0,0,12,7,18,47,25,0,13,0,35])\n",
    "C = np.random.exponential(scale=43, size=1000)\n",
    "\n",
    "meanA = np.mean(A)\n",
    "stdA = np.std(A, ddof=1)\n",
    "print(meanA)\n",
    "print(stdA)\n",
    "\n",
    "meanB = np.mean(B)\n",
    "stdB = np.std(B, ddof=1)\n",
    "print(meanB)\n",
    "print(stdB)\n",
    "\n",
    "meanC = np.mean(C)\n",
    "stdC = np.std(C, ddof=1)\n",
    "print(meanC)\n",
    "print(stdC)"
   ]
  },
  {
   "cell_type": "markdown",
   "metadata": {},
   "source": [
    "**Part B:** Compute and print  the mean and standard deviation of the new data set formed by subtracting the original mean from each observation."
   ]
  },
  {
   "cell_type": "code",
   "execution_count": 6,
   "metadata": {},
   "outputs": [
    {
     "name": "stdout",
     "output_type": "stream",
     "text": [
      "0.0\n",
      "3.8944404818493075\n",
      "-1.1842378929335002e-15\n",
      "15.64061341120571\n",
      "3.0695446184836328e-15\n",
      "45.495397980778066\n"
     ]
    }
   ],
   "source": [
    "#Code here\n",
    "new_A = [x-meanA for x in A]\n",
    "\n",
    "meanAnew = np.mean(new_A)\n",
    "stdAnew = np.std(new_A, ddof=1)\n",
    "print(meanAnew)\n",
    "print(stdAnew)\n",
    "\n",
    "new_B = [x-meanB for x in B]\n",
    "\n",
    "meanBnew = np.mean(new_B)\n",
    "stdBnew = np.std(new_B, ddof=1)\n",
    "print(meanBnew)\n",
    "print(stdBnew)\n",
    "\n",
    "new_C = [x-meanC for x in C]\n",
    "\n",
    "meanCnew = np.mean(new_C)\n",
    "stdCnew = np.std(new_C, ddof=1)\n",
    "print(meanCnew)\n",
    "print(stdCnew)"
   ]
  },
  {
   "cell_type": "markdown",
   "metadata": {},
   "source": [
    "**Part C:** Compute and print  the mean and standard deviation of the new data set formed by subtracting the original mean from each observation and then dividing by the original standard deviation."
   ]
  },
  {
   "cell_type": "code",
   "execution_count": 7,
   "metadata": {
    "scrolled": false
   },
   "outputs": [
    {
     "name": "stdout",
     "output_type": "stream",
     "text": [
      "4.459342226960714\n",
      "3.8944404818493075\n",
      "12.246835877040487\n",
      "15.640613411205706\n",
      "41.862194876329916\n",
      "45.495397980778066\n"
     ]
    }
   ],
   "source": [
    "new2_A = [x-meanA/stdA for x in A]\n",
    "\n",
    "meanAnew2 = np.mean(new2_A)\n",
    "stdAnew2 = np.std(new2_A, ddof=1)\n",
    "print(meanAnew2)\n",
    "print(stdAnew2)\n",
    "\n",
    "new2_B = [x-meanB/stdB for x in B]\n",
    "\n",
    "meanBnew2 = np.mean(new2_B)\n",
    "stdBnew2 = np.std(new2_B, ddof=1)\n",
    "print(meanBnew2)\n",
    "print(stdBnew2)\n",
    "\n",
    "\n",
    "new2_C = [x-meanC/stdC for x in C]\n",
    "\n",
    "meanCnew2 = np.mean(new2_C)\n",
    "stdCnew2 = np.std(new2_C, ddof=1)\n",
    "print(meanCnew2)\n",
    "print(stdCnew2)"
   ]
  },
  {
   "cell_type": "markdown",
   "metadata": {},
   "source": [
    "**Part D:** Why might this result matter?\n"
   ]
  },
  {
   "cell_type": "markdown",
   "metadata": {},
   "source": [
    "**This result is important because we are standardizing the numbers. Which is to say each value represents how many standard deviations it is from the center. This is important to compare different sets of data because now they have been standardized and thus can be compared.**"
   ]
  },
  {
   "cell_type": "markdown",
   "metadata": {},
   "source": [
    "**Part E:** Looking at each of the 3 data sets, come up with a real-world context where those spectrum of numbers might make for reasonable observations."
   ]
  },
  {
   "cell_type": "markdown",
   "metadata": {},
   "source": [
    "**Array A can be a set of family sizes in a town. Measured as how many people live in a household. Array B could be the number of trees in a square mile. Array C could be measurements of biological cells in micrometers**"
   ]
  },
  {
   "cell_type": "markdown",
   "metadata": {},
   "source": [
    "**Part F:** Let's prove a generalization of the result you likely observed in part B.  What happens if you take data set and \"recenter\" it by adding or subtracting the same number $c$ to each and every observation?\n",
    "\n",
    "In other words, show that the mean of the data set $Y$ given by $Y_i=X_i+c$ is $\\bar{Y}=\\bar{X}+c$.\n",
    "\n",
    "(**Hint**: start with the definition of the mean: $$\\bar{Y}=\\frac{\\sum_{i=1}^n Y_i}{n},$$ then work with the right hand side!)\n",
    "\n",
    "\n"
   ]
  },
  {
   "cell_type": "markdown",
   "metadata": {},
   "source": [
    "\n",
    "**Proof:**\n",
    "\n",
    "$$\\bar{Y}=\\frac{\\sum_{i=1}^n Y_i}{n}$$ \\\n",
    "$$\\bar{Y}=\\frac{\\sum_{i=1}^n (x_i + c)}{n}$$ \\\n",
    "$$\\bar{Y}=\\Bigl(\\frac{\\sum_{i=1}^n x_i}{n}\\Bigr) + c $$ \\\n",
    "$$\\bar{Y}=\\bar{X} + c $$ "
   ]
  },
  {
   "cell_type": "markdown",
   "metadata": {},
   "source": [
    "[Back to top](#top)\n",
    "<a/ id='p3'></a>\n",
    "\n",
    "## (15 pts) Problem 3: Computation (Streaming Means)\n",
    "***\n",
    "\n",
    "Data science is often divided into two categories: questions of *what* the best value might be to repreesnt a data problem, and questions of *how* to compute that data value.  Question 1 - and prior lectures - should tell you that computing the mean is valuable!  But *how* do we compute the mean?\n",
    "\n",
    "Let $x_1, x_2, \\ldots, x_n$ be $n$ observations of a variable of interest.  Recall that the sample mean $\\bar{x}_n$ and sample variance $s^2_n$ are given by \n",
    "<a id='eq1'></a>\n",
    "$$\n",
    "\\bar{x}_n = \\frac{1}{n}\\sum_{k=1}^n x_k \\quad \\textrm{and} \\quad s^2_n = \\frac{1}{n-1}\\sum_{k=1}^n \\left( x_k - \\bar{x}_n\\right)^2 \\qquad \\tag{Equation 1}\n",
    "$$"
   ]
  },
  {
   "cell_type": "markdown",
   "metadata": {},
   "source": [
    "**Part A**:\n",
    "\n",
    "How many computations - floating point operations: addition, subtraction, multiplication, division each count as 1 operation - are required to compute the mean of the data set with $n$ observations?\n"
   ]
  },
  {
   "cell_type": "markdown",
   "metadata": {},
   "source": [
    "**ANSWER:** We must add $(n-1)$ times and then divide once. So $n$ times."
   ]
  },
  {
   "cell_type": "markdown",
   "metadata": {},
   "source": [
    "**Part B**:\n",
    "\n",
    "Now suppose our data is *streaming*- we slowly add observations one at a time, instead of seeing the entire data set at once.  We are still interested in the mean, so if we stream the data set `[4,6,0,10, ...]`, we first compute the mean of the the first data point `[4]`, then we recompute the mean of the first two points `[4,6]`, then we recompute the mean of three `[4,6,0]`, and so forth.\n",
    "\n",
    "Suppose we recompute the mean from scratch after each and every one of our $n$ observations are one-by-one added to our data set.  How many floating point operations are spent computing (and re-computing) the mean of the data set?"
   ]
  },
  {
   "cell_type": "markdown",
   "metadata": {},
   "source": [
    "**ANSWER:** Each element takes n flops to calculate the mean. Therefore the total number of flops it takes to compute the mean of the data set is the addition of all flops for each element, or:\n",
    "\n",
    "$$Flops=({\\sum_{i=1}^n (x_i)})  \\tag{Where x_i is the flop of each element} $$ "
   ]
  },
  {
   "cell_type": "markdown",
   "metadata": {},
   "source": [
    "We should be convinced that streaming a mean costs a lot more computer time than just computing once!\n",
    "\n",
    "In this problem we explore a smarter method for such an _online_ computation of the mean.  \n",
    "\n",
    "**Result**: The following relation holds between the mean of the first $n-1$ observations and the mean of all $n$ observations: \n",
    "\n",
    "$$\n",
    "\\bar{x}_n = \\bar{x}_{n-1} + \\frac{x_n - \\bar{x}_{n-1}}{n}\n",
    "$$\n",
    "\n",
    "\n",
    "A proof of this result is in the [Appendix](#Appendix) after this problem, and requires some careful manipulations of the sum $\\bar{x}_n$.  Your task will be to computationally verify and utilize this result.\n",
    "\n",
    "**Part C**: Write a function `my_sample_mean` that takes as its input a numpy array and returns the mean of that numpy array using the formulas from class ([Equation 1](#eq1)). Write another function `my_sample_var` that takes as its input a numpy array and returns the variance of that numpy array, again using the formulas from class ([Equation 1](#eq1)). You may **not** use any built-in sample mean or variance functions."
   ]
  },
  {
   "cell_type": "code",
   "execution_count": 37,
   "metadata": {},
   "outputs": [
    {
     "name": "stdout",
     "output_type": "stream",
     "text": [
      "25.0 is the mean\n"
     ]
    }
   ],
   "source": [
    "dataset = ([10, 20, 30, 40])\n",
    "\n",
    "def my_sample_mean(array):\n",
    "    sum = 0\n",
    "    counter = 0\n",
    "    for x in array:\n",
    "        counter+= 1\n",
    "        sum += x\n",
    "    return sum/(counter)\n",
    "    \n",
    "print(my_sample_mean(dataset), \"is the mean\")"
   ]
  },
  {
   "cell_type": "code",
   "execution_count": 39,
   "metadata": {},
   "outputs": [
    {
     "name": "stdout",
     "output_type": "stream",
     "text": [
      "166.66666666666666  is the variance\n"
     ]
    }
   ],
   "source": [
    "\n",
    "def my_sample_var(array):\n",
    "    a = []\n",
    "    summ = 0\n",
    "    counter = 0\n",
    "    xbar = my_sample_mean(array)\n",
    "    for x in array:\n",
    "        counter+= 1\n",
    "        x = (x - xbar)**2\n",
    "        #x = x * x\n",
    "        a.append(x)\n",
    "    for i in a:\n",
    "        summ += i\n",
    "    return summ/(counter-1)\n",
    "\n",
    "print(my_sample_var(dataset), \" is the variance\")\n"
   ]
  },
  {
   "cell_type": "markdown",
   "metadata": {},
   "source": [
    "**Part D**: Use your functions from Part C to compute the sample mean and sample variance of the following array, which contains the minutes late that the BuffBus is running on Friday afternoon.\n",
    "\n",
    "`bus = [312, 4, 10, 0, 22, 39, 81, 19, 8, 60, 80, 42]`"
   ]
  },
  {
   "cell_type": "code",
   "execution_count": 46,
   "metadata": {},
   "outputs": [
    {
     "name": "stdout",
     "output_type": "stream",
     "text": [
      "56.416666666666664  this is how late the buff bus is on average\n",
      "7274.628787878787  this is the variance in buff bus tardiness\n"
     ]
    }
   ],
   "source": [
    "bus = ([312, 4, 10, 0, 22, 39, 81, 19, 8, 60, 80, 42])\n",
    "print(my_sample_mean(bus), \" this is how late the buff bus is on average\")\n",
    "print(my_sample_var(bus), \" this is the variance in buff bus tardiness\")"
   ]
  },
  {
   "cell_type": "markdown",
   "metadata": {},
   "source": [
    "**Part E**: Implement a third function called `update_mean` that implements the formula discussed after part B. Note that this function will need to take as its input three things: $x_n$, $\\bar{x}_{n-1}$ and $n$, and returns $\\bar{x}_{n}$. A function header and return statement are provided for you. This function may be auto-graded, so please do not change the given header API - the order of inputs matters! If you change it, you might lose points.\n",
    "\n",
    "Use this function to compute the values that you get from taking the mean of the first buff buses' lateness, the first two buff buses' lateness, the first three buff buses' lateness, and so on up to all of the `bus` data points from **Part D**. Store your streaming bus means in a numpy array called `buffbus_bad_means`.  Report all 12 estimates in `buffbus_bad_means`."
   ]
  },
  {
   "cell_type": "code",
   "execution_count": 85,
   "metadata": {},
   "outputs": [
    {
     "ename": "IndexError",
     "evalue": "list index out of range",
     "output_type": "error",
     "traceback": [
      "\u001b[0;31m---------------------------------------------------------------------------\u001b[0m",
      "\u001b[0;31mIndexError\u001b[0m                                Traceback (most recent call last)",
      "\u001b[0;32m<ipython-input-85-9b5b81335292>\u001b[0m in \u001b[0;36m<module>\u001b[0;34m\u001b[0m\n\u001b[1;32m     14\u001b[0m \u001b[0mbuffbus_bad_means\u001b[0m \u001b[0;34m=\u001b[0m \u001b[0;34m[\u001b[0m\u001b[0;34m]\u001b[0m\u001b[0;34m\u001b[0m\u001b[0;34m\u001b[0m\u001b[0m\n\u001b[1;32m     15\u001b[0m \u001b[0;32mfor\u001b[0m \u001b[0mi\u001b[0m \u001b[0;32min\u001b[0m \u001b[0mbus\u001b[0m\u001b[0;34m:\u001b[0m\u001b[0;34m\u001b[0m\u001b[0;34m\u001b[0m\u001b[0m\n\u001b[0;32m---> 16\u001b[0;31m     \u001b[0mz\u001b[0m \u001b[0;34m=\u001b[0m \u001b[0mupdate_mean\u001b[0m\u001b[0;34m(\u001b[0m\u001b[0mbus\u001b[0m\u001b[0;34m[\u001b[0m\u001b[0mi\u001b[0m\u001b[0;34m-\u001b[0m\u001b[0;36m1\u001b[0m\u001b[0;34m]\u001b[0m\u001b[0;34m,\u001b[0m \u001b[0mi\u001b[0m\u001b[0;34m,\u001b[0m \u001b[0mcounter\u001b[0m\u001b[0;34m)\u001b[0m\u001b[0;34m\u001b[0m\u001b[0;34m\u001b[0m\u001b[0m\n\u001b[0m\u001b[1;32m     17\u001b[0m     \u001b[0mbuffbus_bad_means\u001b[0m\u001b[0;34m.\u001b[0m\u001b[0mappend\u001b[0m\u001b[0;34m(\u001b[0m\u001b[0mz\u001b[0m\u001b[0;34m)\u001b[0m\u001b[0;34m\u001b[0m\u001b[0;34m\u001b[0m\u001b[0m\n\u001b[1;32m     18\u001b[0m     \u001b[0mcounter\u001b[0m \u001b[0;34m+=\u001b[0m\u001b[0;36m1\u001b[0m\u001b[0;34m\u001b[0m\u001b[0;34m\u001b[0m\u001b[0m\n",
      "\u001b[0;31mIndexError\u001b[0m: list index out of range"
     ]
    }
   ],
   "source": [
    "# Given API:\n",
    "\n",
    "def update_mean(prev_mean, xn, n):\n",
    "    #Your code here to compute updates\n",
    "    if n == 0:\n",
    "        return xn\n",
    "    now_mean = prev_mean + ((xn - prev_mean)/n)\n",
    "    return now_mean\n",
    "\n",
    "\n",
    "#Your code here (to loop over the full data)\n",
    "\n",
    "counter = 0\n",
    "buffbus_bad_means = []\n",
    "for i in bus:\n",
    "    z = update_mean(bus[i-1], i, counter)\n",
    "    buffbus_bad_means.append(z)\n",
    "    counter +=1\n",
    "\n",
    "print(buffbus_bad_means)"
   ]
  },
  {
   "cell_type": "markdown",
   "metadata": {},
   "source": [
    "<a id='Appendix'></a>\n",
    "\n",
    "## Appendix \n",
    "\n",
    "*Goal*: Prove that \n",
    "$$\n",
    "\\bar{x}_n = \\bar{x}_{n-1} + \\frac{x_n - \\bar{x}_{n-1}}{n}\n",
    "$$\n",
    "\n",
    "Note that you can get an expression for $\\bar{x}_{n-1}$ by simply replacing $n$ in Equation 1 above with $n-1$.\n",
    "\n",
    "We'll start with $\\bar{x}_n$ and massage it until we get the righthand side of the formula\n",
    "\n",
    "\\begin{eqnarray}\n",
    "\\nonumber \\bar{x}_n &=& \\frac{1}{n} \\sum_{k=1}^n x_k \\\\\n",
    "&=& \\frac{1}{n} \\sum_{k=1}^{n-1} x_k + \\frac{1}{n}x_n \\\\\n",
    "&=& \\frac{n-1}{n-1}\\frac{1}{n} \\sum_{k=1}^{n-1} x_k + \\frac{1}{n}x_n \\\\\n",
    "&=& \\frac{n-1}{n} \\left(\\frac{1}{n-1} \\sum_{k=1}^{n-1} x_k\\right) + \\frac{1}{n}x_n \\\\\n",
    "&=& \\frac{n-1}{n} \\bar{x}_{n-1} + \\frac{1}{n}x_n \\\\\n",
    "&=& \\frac{n}{n}\\bar{x}_{n-1} - \\frac{1}{n}\\bar{x}_{n-1} + \\frac{1}{n}x_n \\\\\n",
    "&=&  \\bar{x}_{n-1} + \\frac{x_n - \\bar{x}_{n-1}}{n} \\quad \\checkmark\n",
    "\\end{eqnarray}\n",
    "\n"
   ]
  },
  {
   "cell_type": "code",
   "execution_count": null,
   "metadata": {},
   "outputs": [],
   "source": []
  }
 ],
 "metadata": {
  "kernelspec": {
   "display_name": "Python 3",
   "language": "python",
   "name": "python3"
  },
  "language_info": {
   "codemirror_mode": {
    "name": "ipython",
    "version": 3
   },
   "file_extension": ".py",
   "mimetype": "text/x-python",
   "name": "python",
   "nbconvert_exporter": "python",
   "pygments_lexer": "ipython3",
   "version": "3.8.5"
  }
 },
 "nbformat": 4,
 "nbformat_minor": 2
}
